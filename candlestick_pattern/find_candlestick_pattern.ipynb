{
 "cells": [
  {
   "cell_type": "code",
   "execution_count": 1,
   "outputs": [],
   "source": [
    "from plotly.offline import plot\n",
    "import pandas as pd\n",
    "import talib\n",
    "import yfinance\n",
    "import plotly.graph_objects as go\n",
    "import numpy as np\n",
    "import matplotlib.dates as mpl_dates\n",
    "import matplotlib.pyplot as plt\n",
    "from datetime import date\n",
    "import matplotlib\n",
    "from itertools import compress\n",
    "matplotlib.use('TkAgg')\n",
    "plt.rcParams['figure.figsize'] = [12, 7]\n",
    "plt.rc('font', size=14)"
   ],
   "metadata": {
    "collapsed": false,
    "pycharm": {
     "name": "#%%\n"
    }
   }
  },
  {
   "cell_type": "code",
   "execution_count": 2,
   "outputs": [],
   "source": [
    "stocksymbols = 'LT.NS'\n",
    "ticker = yfinance.Ticker(stocksymbols)\n",
    "end = date.today()\n",
    "start = \"2023-01-01\"\n",
    "df = ticker.history(interval=\"1d\",start=start,end=end)"
   ],
   "metadata": {
    "collapsed": false,
    "pycharm": {
     "name": "#%%\n"
    }
   }
  },
  {
   "cell_type": "code",
   "execution_count": 3,
   "outputs": [],
   "source": [
    "df['Date'] = pd.to_datetime(df.index)\n",
    "df['Date'] = df['Date'].apply(mpl_dates.date2num)\n",
    "df.index = pd.to_datetime(df.index, errors='coerce')\n",
    "df = df.loc[:,['Date', 'Open', 'High', 'Low', 'Close']]"
   ],
   "metadata": {
    "collapsed": false,
    "pycharm": {
     "name": "#%%\n"
    }
   }
  },
  {
   "cell_type": "code",
   "execution_count": 5,
   "outputs": [],
   "source": [
    "candle_names = talib.get_function_groups()['Pattern Recognition']"
   ],
   "metadata": {
    "collapsed": false,
    "pycharm": {
     "name": "#%%\n"
    }
   }
  },
  {
   "cell_type": "code",
   "execution_count": 4,
   "outputs": [],
   "source": [
    "candle_names = ['CDL2CROWS','CDL3BLACKCROWS','CDL3INSIDE','CDL3LINESTRIKE','CDL3OUTSIDE','CDL3STARSINSOUTH','CDL3WHITESOLDIERS','CDLABANDONEDBABY',\n",
    "'CDLADVANCEBLOCK','CDLBELTHOLD','CDLBREAKAWAY','CDLCLOSINGMARUBOZU','CDLCONCEALBABYSWALL','CDLCOUNTERATTACK','CDLDARKCLOUDCOVER','CDLDOJI','CDLDOJISTAR',\n",
    "'CDLDRAGONFLYDOJI','CDLENGULFING','CDLEVENINGDOJISTAR','CDLEVENINGSTAR','CDLGAPSIDESIDEWHITE','CDLHAMMER','CDLHANGINGMAN','CDLHARAMI','CDLHARAMICROSS','CDLHIGHWAVE',\n",
    "'CDLHIKKAKE','CDLHIKKAKEMOD','CDLHOMINGPIGEON','CDLIDENTICAL3CROWS','CDLINNECK','CDLINVERTEDHAMMER','CDLKICKING','CDLKICKINGBYLENGTH','CDLLADDERBOTTOM','CDLLONGLINE',\n",
    "'CDLMARUBOZU','CDLMATCHINGLOW','CDLMATHOLD','CDLMORNINGDOJISTAR','CDLMORNINGSTAR','CDLONNECK','CDLPIERCING','CDLRICKSHAWMAN','CDLRISEFALL3METHODS','CDLSEPARATINGLINES',\n",
    "'CDLSHORTLINE','CDLSHOOTINGSTAR','CDLSPINNINGTOP','CDLSTALLEDPATTERN','CDLSTICKSANDWICH','CDLTAKURI','CDLTASUKIGAP','CDLTHRUSTING','CDLTRISTAR','CDLUNIQUE3RIVER'\n",
    "]"
   ],
   "metadata": {
    "collapsed": false,
    "pycharm": {
     "name": "#%%\n"
    }
   }
  },
  {
   "cell_type": "code",
   "execution_count": 6,
   "outputs": [],
   "source": [
    "# extract OHLC\n",
    "op = df['Open']\n",
    "hi = df['High']\n",
    "lo = df['Low']\n",
    "cl = df['Close']\n",
    "# create columns for each pattern\n",
    "for candle in candle_names:\n",
    "    # below is same as;\n",
    "    # df[\"CDL3LINESTRIKE\"] = talib.CDL3LINESTRIKE(op, hi, lo, cl)\n",
    "    df[candle] = getattr(talib, candle)(op, hi, lo, cl)"
   ],
   "metadata": {
    "collapsed": false,
    "pycharm": {
     "name": "#%%\n"
    }
   }
  },
  {
   "cell_type": "code",
   "execution_count": 7,
   "outputs": [
    {
     "data": {
      "text/plain": "                                   Date         Open         High  \\\nDate                                                                \n2023-01-02 00:00:00+05:30  19358.770833  2092.899902  2097.600098   \n2023-01-03 00:00:00+05:30  19359.770833  2088.000000  2096.800049   \n2023-01-04 00:00:00+05:30  19360.770833  2090.949951  2101.449951   \n2023-01-05 00:00:00+05:30  19361.770833  2080.000000  2099.199951   \n2023-01-06 00:00:00+05:30  19362.770833  2090.199951  2121.699951   \n\n                                   Low        Close  CDL2CROWS  \\\nDate                                                             \n2023-01-02 00:00:00+05:30  2075.050049  2089.449951          0   \n2023-01-03 00:00:00+05:30  2067.949951  2088.949951          0   \n2023-01-04 00:00:00+05:30  2058.000000  2070.550049          0   \n2023-01-05 00:00:00+05:30  2068.500000  2087.350098          0   \n2023-01-06 00:00:00+05:30  2071.850098  2086.550049          0   \n\n                           CDL3BLACKCROWS  CDL3INSIDE  CDL3LINESTRIKE  \\\nDate                                                                    \n2023-01-02 00:00:00+05:30               0           0               0   \n2023-01-03 00:00:00+05:30               0           0               0   \n2023-01-04 00:00:00+05:30               0           0               0   \n2023-01-05 00:00:00+05:30               0           0               0   \n2023-01-06 00:00:00+05:30               0           0               0   \n\n                           CDL3OUTSIDE  ...  CDLSPINNINGTOP  \\\nDate                                    ...                   \n2023-01-02 00:00:00+05:30            0  ...               0   \n2023-01-03 00:00:00+05:30            0  ...               0   \n2023-01-04 00:00:00+05:30            0  ...               0   \n2023-01-05 00:00:00+05:30            0  ...               0   \n2023-01-06 00:00:00+05:30            0  ...               0   \n\n                           CDLSTALLEDPATTERN  CDLSTICKSANDWICH  CDLTAKURI  \\\nDate                                                                        \n2023-01-02 00:00:00+05:30                  0                 0          0   \n2023-01-03 00:00:00+05:30                  0                 0          0   \n2023-01-04 00:00:00+05:30                  0                 0          0   \n2023-01-05 00:00:00+05:30                  0                 0          0   \n2023-01-06 00:00:00+05:30                  0                 0          0   \n\n                           CDLTASUKIGAP  CDLTHRUSTING  CDLTRISTAR  \\\nDate                                                                \n2023-01-02 00:00:00+05:30             0             0           0   \n2023-01-03 00:00:00+05:30             0             0           0   \n2023-01-04 00:00:00+05:30             0             0           0   \n2023-01-05 00:00:00+05:30             0             0           0   \n2023-01-06 00:00:00+05:30             0             0           0   \n\n                           CDLUNIQUE3RIVER  CDLUPSIDEGAP2CROWS  \\\nDate                                                             \n2023-01-02 00:00:00+05:30                0                   0   \n2023-01-03 00:00:00+05:30                0                   0   \n2023-01-04 00:00:00+05:30                0                   0   \n2023-01-05 00:00:00+05:30                0                   0   \n2023-01-06 00:00:00+05:30                0                   0   \n\n                           CDLXSIDEGAP3METHODS  \nDate                                            \n2023-01-02 00:00:00+05:30                    0  \n2023-01-03 00:00:00+05:30                    0  \n2023-01-04 00:00:00+05:30                    0  \n2023-01-05 00:00:00+05:30                    0  \n2023-01-06 00:00:00+05:30                    0  \n\n[5 rows x 66 columns]",
      "text/html": "<div>\n<style scoped>\n    .dataframe tbody tr th:only-of-type {\n        vertical-align: middle;\n    }\n\n    .dataframe tbody tr th {\n        vertical-align: top;\n    }\n\n    .dataframe thead th {\n        text-align: right;\n    }\n</style>\n<table border=\"1\" class=\"dataframe\">\n  <thead>\n    <tr style=\"text-align: right;\">\n      <th></th>\n      <th>Date</th>\n      <th>Open</th>\n      <th>High</th>\n      <th>Low</th>\n      <th>Close</th>\n      <th>CDL2CROWS</th>\n      <th>CDL3BLACKCROWS</th>\n      <th>CDL3INSIDE</th>\n      <th>CDL3LINESTRIKE</th>\n      <th>CDL3OUTSIDE</th>\n      <th>...</th>\n      <th>CDLSPINNINGTOP</th>\n      <th>CDLSTALLEDPATTERN</th>\n      <th>CDLSTICKSANDWICH</th>\n      <th>CDLTAKURI</th>\n      <th>CDLTASUKIGAP</th>\n      <th>CDLTHRUSTING</th>\n      <th>CDLTRISTAR</th>\n      <th>CDLUNIQUE3RIVER</th>\n      <th>CDLUPSIDEGAP2CROWS</th>\n      <th>CDLXSIDEGAP3METHODS</th>\n    </tr>\n    <tr>\n      <th>Date</th>\n      <th></th>\n      <th></th>\n      <th></th>\n      <th></th>\n      <th></th>\n      <th></th>\n      <th></th>\n      <th></th>\n      <th></th>\n      <th></th>\n      <th></th>\n      <th></th>\n      <th></th>\n      <th></th>\n      <th></th>\n      <th></th>\n      <th></th>\n      <th></th>\n      <th></th>\n      <th></th>\n      <th></th>\n    </tr>\n  </thead>\n  <tbody>\n    <tr>\n      <th>2023-01-02 00:00:00+05:30</th>\n      <td>19358.770833</td>\n      <td>2092.899902</td>\n      <td>2097.600098</td>\n      <td>2075.050049</td>\n      <td>2089.449951</td>\n      <td>0</td>\n      <td>0</td>\n      <td>0</td>\n      <td>0</td>\n      <td>0</td>\n      <td>...</td>\n      <td>0</td>\n      <td>0</td>\n      <td>0</td>\n      <td>0</td>\n      <td>0</td>\n      <td>0</td>\n      <td>0</td>\n      <td>0</td>\n      <td>0</td>\n      <td>0</td>\n    </tr>\n    <tr>\n      <th>2023-01-03 00:00:00+05:30</th>\n      <td>19359.770833</td>\n      <td>2088.000000</td>\n      <td>2096.800049</td>\n      <td>2067.949951</td>\n      <td>2088.949951</td>\n      <td>0</td>\n      <td>0</td>\n      <td>0</td>\n      <td>0</td>\n      <td>0</td>\n      <td>...</td>\n      <td>0</td>\n      <td>0</td>\n      <td>0</td>\n      <td>0</td>\n      <td>0</td>\n      <td>0</td>\n      <td>0</td>\n      <td>0</td>\n      <td>0</td>\n      <td>0</td>\n    </tr>\n    <tr>\n      <th>2023-01-04 00:00:00+05:30</th>\n      <td>19360.770833</td>\n      <td>2090.949951</td>\n      <td>2101.449951</td>\n      <td>2058.000000</td>\n      <td>2070.550049</td>\n      <td>0</td>\n      <td>0</td>\n      <td>0</td>\n      <td>0</td>\n      <td>0</td>\n      <td>...</td>\n      <td>0</td>\n      <td>0</td>\n      <td>0</td>\n      <td>0</td>\n      <td>0</td>\n      <td>0</td>\n      <td>0</td>\n      <td>0</td>\n      <td>0</td>\n      <td>0</td>\n    </tr>\n    <tr>\n      <th>2023-01-05 00:00:00+05:30</th>\n      <td>19361.770833</td>\n      <td>2080.000000</td>\n      <td>2099.199951</td>\n      <td>2068.500000</td>\n      <td>2087.350098</td>\n      <td>0</td>\n      <td>0</td>\n      <td>0</td>\n      <td>0</td>\n      <td>0</td>\n      <td>...</td>\n      <td>0</td>\n      <td>0</td>\n      <td>0</td>\n      <td>0</td>\n      <td>0</td>\n      <td>0</td>\n      <td>0</td>\n      <td>0</td>\n      <td>0</td>\n      <td>0</td>\n    </tr>\n    <tr>\n      <th>2023-01-06 00:00:00+05:30</th>\n      <td>19362.770833</td>\n      <td>2090.199951</td>\n      <td>2121.699951</td>\n      <td>2071.850098</td>\n      <td>2086.550049</td>\n      <td>0</td>\n      <td>0</td>\n      <td>0</td>\n      <td>0</td>\n      <td>0</td>\n      <td>...</td>\n      <td>0</td>\n      <td>0</td>\n      <td>0</td>\n      <td>0</td>\n      <td>0</td>\n      <td>0</td>\n      <td>0</td>\n      <td>0</td>\n      <td>0</td>\n      <td>0</td>\n    </tr>\n  </tbody>\n</table>\n<p>5 rows × 66 columns</p>\n</div>"
     },
     "execution_count": 7,
     "metadata": {},
     "output_type": "execute_result"
    }
   ],
   "source": [
    "df.head()"
   ],
   "metadata": {
    "collapsed": false,
    "pycharm": {
     "name": "#%%\n"
    }
   }
  },
  {
   "cell_type": "code",
   "execution_count": 8,
   "outputs": [],
   "source": [
    "candle_rankings = {\n",
    "        \"CDL3LINESTRIKE_Bull\": 1,\n",
    "        \"CDL3LINESTRIKE_Bear\": 2,\n",
    "        \"CDL3BLACKCROWS_Bull\": 3,\n",
    "        \"CDL3BLACKCROWS_Bear\": 3,\n",
    "        \"CDLEVENINGSTAR_Bull\": 4,\n",
    "        \"CDLEVENINGSTAR_Bear\": 4,\n",
    "        \"CDLTASUKIGAP_Bull\": 5,\n",
    "        \"CDLTASUKIGAP_Bear\": 5,\n",
    "        \"CDLINVERTEDHAMMER_Bull\": 6,\n",
    "        \"CDLINVERTEDHAMMER_Bear\": 6,\n",
    "        \"CDLMATCHINGLOW_Bull\": 7,\n",
    "        \"CDLMATCHINGLOW_Bear\": 7,\n",
    "        \"CDLABANDONEDBABY_Bull\": 8,\n",
    "        \"CDLABANDONEDBABY_Bear\": 8,\n",
    "        \"CDLBREAKAWAY_Bull\": 10,\n",
    "        \"CDLBREAKAWAY_Bear\": 10,\n",
    "        \"CDLMORNINGSTAR_Bull\": 12,\n",
    "        \"CDLMORNINGSTAR_Bear\": 12,\n",
    "        \"CDLPIERCING_Bull\": 13,\n",
    "        \"CDLPIERCING_Bear\": 13,\n",
    "        \"CDLSTICKSANDWICH_Bull\": 14,\n",
    "        \"CDLSTICKSANDWICH_Bear\": 14,\n",
    "        \"CDLTHRUSTING_Bull\": 15,\n",
    "        \"CDLTHRUSTING_Bear\": 15,\n",
    "        \"CDLINNECK_Bull\": 17,\n",
    "        \"CDLINNECK_Bear\": 17,\n",
    "        \"CDL3INSIDE_Bull\": 20,\n",
    "        \"CDL3INSIDE_Bear\": 56,\n",
    "        \"CDLHOMINGPIGEON_Bull\": 21,\n",
    "        \"CDLHOMINGPIGEON_Bear\": 21,\n",
    "        \"CDLDARKCLOUDCOVER_Bull\": 22,\n",
    "        \"CDLDARKCLOUDCOVER_Bear\": 22,\n",
    "        \"CDLIDENTICAL3CROWS_Bull\": 24,\n",
    "        \"CDLIDENTICAL3CROWS_Bear\": 24,\n",
    "        \"CDLMORNINGDOJISTAR_Bull\": 25,\n",
    "        \"CDLMORNINGDOJISTAR_Bear\": 25,\n",
    "        \"CDLXSIDEGAP3METHODS_Bull\": 27,\n",
    "        \"CDLXSIDEGAP3METHODS_Bear\": 26,\n",
    "        \"CDLTRISTAR_Bull\": 28,\n",
    "        \"CDLTRISTAR_Bear\": 76,\n",
    "        \"CDLGAPSIDESIDEWHITE_Bull\": 46,\n",
    "        \"CDLGAPSIDESIDEWHITE_Bear\": 29,\n",
    "        \"CDLEVENINGDOJISTAR_Bull\": 30,\n",
    "        \"CDLEVENINGDOJISTAR_Bear\": 30,\n",
    "        \"CDL3WHITESOLDIERS_Bull\": 32,\n",
    "        \"CDL3WHITESOLDIERS_Bear\": 32,\n",
    "        \"CDLONNECK_Bull\": 33,\n",
    "        \"CDLONNECK_Bear\": 33,\n",
    "        \"CDL3OUTSIDE_Bull\": 34,\n",
    "        \"CDL3OUTSIDE_Bear\": 39,\n",
    "        \"CDLRICKSHAWMAN_Bull\": 35,\n",
    "        \"CDLRICKSHAWMAN_Bear\": 35,\n",
    "        \"CDLSEPARATINGLINES_Bull\": 36,\n",
    "        \"CDLSEPARATINGLINES_Bear\": 40,\n",
    "        \"CDLLONGLEGGEDDOJI_Bull\": 37,\n",
    "        \"CDLLONGLEGGEDDOJI_Bear\": 37,\n",
    "        \"CDLHARAMI_Bull\": 38,\n",
    "        \"CDLHARAMI_Bear\": 72,\n",
    "        \"CDLLADDERBOTTOM_Bull\": 41,\n",
    "        \"CDLLADDERBOTTOM_Bear\": 41,\n",
    "        \"CDLCLOSINGMARUBOZU_Bull\": 70,\n",
    "        \"CDLCLOSINGMARUBOZU_Bear\": 43,\n",
    "        \"CDLTAKURI_Bull\": 47,\n",
    "        \"CDLTAKURI_Bear\": 47,\n",
    "        \"CDLDOJISTAR_Bull\": 49,\n",
    "        \"CDLDOJISTAR_Bear\": 51,\n",
    "        \"CDLHARAMICROSS_Bull\": 50,\n",
    "        \"CDLHARAMICROSS_Bear\": 80,\n",
    "        \"CDLADVANCEBLOCK_Bull\": 54,\n",
    "        \"CDLADVANCEBLOCK_Bear\": 54,\n",
    "        \"CDLSHOOTINGSTAR_Bull\": 55,\n",
    "        \"CDLSHOOTINGSTAR_Bear\": 55,\n",
    "        \"CDLMARUBOZU_Bull\": 71,\n",
    "        \"CDLMARUBOZU_Bear\": 57,\n",
    "        \"CDLUNIQUE3RIVER_Bull\": 60,\n",
    "        \"CDLUNIQUE3RIVER_Bear\": 60,\n",
    "        \"CDL2CROWS_Bull\": 61,\n",
    "        \"CDL2CROWS_Bear\": 61,\n",
    "        \"CDLBELTHOLD_Bull\": 62,\n",
    "        \"CDLBELTHOLD_Bear\": 63,\n",
    "        \"CDLHAMMER_Bull\": 65,\n",
    "        \"CDLHAMMER_Bear\": 65,\n",
    "        \"CDLHIGHWAVE_Bull\": 67,\n",
    "        \"CDLHIGHWAVE_Bear\": 67,\n",
    "        \"CDLSPINNINGTOP_Bull\": 69,\n",
    "        \"CDLSPINNINGTOP_Bear\": 73,\n",
    "        \"CDLUPSIDEGAP2CROWS_Bull\": 74,\n",
    "        \"CDLUPSIDEGAP2CROWS_Bear\": 74,\n",
    "        \"CDLGRAVESTONEDOJI_Bull\": 77,\n",
    "        \"CDLGRAVESTONEDOJI_Bear\": 77,\n",
    "        \"CDLHIKKAKEMOD_Bull\": 82,\n",
    "        \"CDLHIKKAKEMOD_Bear\": 81,\n",
    "        \"CDLHIKKAKE_Bull\": 85,\n",
    "        \"CDLHIKKAKE_Bear\": 83,\n",
    "        \"CDLENGULFING_Bull\": 84,\n",
    "        \"CDLENGULFING_Bear\": 91,\n",
    "        \"CDLMATHOLD_Bull\": 86,\n",
    "        \"CDLMATHOLD_Bear\": 86,\n",
    "        \"CDLHANGINGMAN_Bull\": 87,\n",
    "        \"CDLHANGINGMAN_Bear\": 87,\n",
    "        \"CDLRISEFALL3METHODS_Bull\": 94,\n",
    "        \"CDLRISEFALL3METHODS_Bear\": 89,\n",
    "        \"CDLKICKING_Bull\": 96,\n",
    "        \"CDLKICKING_Bear\": 102,\n",
    "        \"CDLDRAGONFLYDOJI_Bull\": 98,\n",
    "        \"CDLDRAGONFLYDOJI_Bear\": 98,\n",
    "        \"CDLCONCEALBABYSWALL_Bull\": 101,\n",
    "        \"CDLCONCEALBABYSWALL_Bear\": 101,\n",
    "        \"CDL3STARSINSOUTH_Bull\": 103,\n",
    "        \"CDL3STARSINSOUTH_Bear\": 103,\n",
    "        \"CDLDOJI_Bull\": 104,\n",
    "        \"CDLDOJI_Bear\": 104\n",
    "    }"
   ],
   "metadata": {
    "collapsed": false,
    "pycharm": {
     "name": "#%%\n"
    }
   }
  },
  {
   "cell_type": "code",
   "execution_count": 9,
   "outputs": [],
   "source": [
    "def recognize_candlestick(df):\n",
    "    \"\"\"\n",
    "    Recognizes candlestick patterns and appends 2 additional columns to df;\n",
    "    1st - Best Performance candlestick pattern matched by www.thepatternsite.com\n",
    "    2nd - # of matched patterns\n",
    "    \"\"\"\n",
    "    op = df['Open'].astype(float)\n",
    "    hi = df['High'].astype(float)\n",
    "    lo = df['Low'].astype(float)\n",
    "    cl = df['Close'].astype(float)\n",
    "    candle_names = talib.get_function_groups()['Pattern Recognition']\n",
    "    # patterns not found in the patternsite.com\n",
    "    exclude_items = ('CDLCOUNTERATTACK',\n",
    "                     'CDLLONGLINE',\n",
    "                     'CDLSHORTLINE',\n",
    "                     'CDLSTALLEDPATTERN',\n",
    "                     'CDLKICKINGBYLENGTH')\n",
    "    candle_names = [candle for candle in candle_names if candle not in exclude_items]\n",
    "    # create columns for each candle\n",
    "    for candle in candle_names:\n",
    "        # below is same as;\n",
    "        # df[\"CDL3LINESTRIKE\"] = talib.CDL3LINESTRIKE(op, hi, lo, cl)\n",
    "        df[candle] = getattr(talib, candle)(op, hi, lo, cl)\n",
    "    df['candlestick_pattern'] = np.nan\n",
    "    df['candlestick_match_count'] = np.nan\n",
    "    for index, row in df.iterrows():\n",
    "\n",
    "        # no pattern found\n",
    "        if len(row[candle_names]) - sum(row[candle_names] == 0) == 0:\n",
    "            df.loc[index,'candlestick_pattern'] = \"NO_PATTERN\"\n",
    "            df.loc[index, 'candlestick_match_count'] = 0\n",
    "        # single pattern found\n",
    "        elif len(row[candle_names]) - sum(row[candle_names] == 0) == 1:\n",
    "            # bull pattern 100 or 200\n",
    "            if any(row[candle_names].values > 0):\n",
    "                pattern = list(compress(row[candle_names].keys(), row[candle_names].values != 0))[0] + '_Bull'\n",
    "                df.loc[index, 'candlestick_pattern'] = pattern\n",
    "                df.loc[index, 'candlestick_match_count'] = 1\n",
    "            # bear pattern -100 or -200\n",
    "            else:\n",
    "                pattern = list(compress(row[candle_names].keys(), row[candle_names].values != 0))[0] + '_Bear'\n",
    "                df.loc[index, 'candlestick_pattern'] = pattern\n",
    "                df.loc[index, 'candlestick_match_count'] = 1\n",
    "        # multiple patterns matched -- select best performance\n",
    "        else:\n",
    "            # filter out pattern names from bool list of values\n",
    "            patterns = list(compress(row[candle_names].keys(), row[candle_names].values != 0))\n",
    "            container = []\n",
    "            for pattern in patterns:\n",
    "                if row[pattern] > 0:\n",
    "                    container.append(pattern + '_Bull')\n",
    "                else:\n",
    "                    container.append(pattern + '_Bear')\n",
    "            rank_list = [candle_rankings[p] for p in container]\n",
    "            if len(rank_list) == len(container):\n",
    "                rank_index_best = rank_list.index(min(rank_list))\n",
    "                df.loc[index, 'candlestick_pattern'] = container[rank_index_best]\n",
    "                df.loc[index, 'candlestick_match_count'] = len(container)\n",
    "    # clean up candle columns\n",
    "    cols_to_drop = candle_names + list(exclude_items)\n",
    "    df.drop(cols_to_drop, axis = 1, inplace = True)\n",
    "    return df"
   ],
   "metadata": {
    "collapsed": false,
    "pycharm": {
     "name": "#%%\n"
    }
   }
  },
  {
   "cell_type": "code",
   "execution_count": 10,
   "outputs": [
    {
     "data": {
      "text/plain": "                                   Date         Open         High  \\\nDate                                                                \n2023-01-02 00:00:00+05:30  19358.770833  2092.899902  2097.600098   \n2023-01-03 00:00:00+05:30  19359.770833  2088.000000  2096.800049   \n2023-01-04 00:00:00+05:30  19360.770833  2090.949951  2101.449951   \n2023-01-05 00:00:00+05:30  19361.770833  2080.000000  2099.199951   \n2023-01-06 00:00:00+05:30  19362.770833  2090.199951  2121.699951   \n2023-01-09 00:00:00+05:30  19365.770833  2108.000000  2127.300049   \n2023-01-10 00:00:00+05:30  19366.770833  2131.899902  2131.899902   \n2023-01-11 00:00:00+05:30  19367.770833  2106.100098  2140.000000   \n2023-01-12 00:00:00+05:30  19368.770833  2118.100098  2164.649902   \n2023-01-13 00:00:00+05:30  19369.770833  2161.899902  2164.850098   \n2023-01-16 00:00:00+05:30  19372.770833  2147.000000  2161.000000   \n2023-01-17 00:00:00+05:30  19373.770833  2139.899902  2217.800049   \n2023-01-18 00:00:00+05:30  19374.770833  2221.000000  2274.800049   \n2023-01-19 00:00:00+05:30  19375.770833  2259.850098  2283.800049   \n2023-01-20 00:00:00+05:30  19376.770833  2282.449951  2297.649902   \n2023-01-23 00:00:00+05:30  19379.770833  2255.000000  2273.300049   \n2023-01-24 00:00:00+05:30  19380.770833  2244.699951  2252.300049   \n2023-01-25 00:00:00+05:30  19381.770833  2201.000000  2205.000000   \n2023-01-27 00:00:00+05:30  19383.770833  2174.699951  2195.000000   \n2023-01-30 00:00:00+05:30  19386.770833  2129.399902  2173.250000   \n2023-01-31 00:00:00+05:30  19387.770833  2119.949951  2132.750000   \n2023-02-01 00:00:00+05:30  19388.770833  2133.000000  2215.949951   \n2023-02-02 00:00:00+05:30  19389.770833  2135.600098  2166.949951   \n2023-02-03 00:00:00+05:30  19390.770833  2176.949951  2181.850098   \n2023-02-06 00:00:00+05:30  19393.770833  2164.250000  2181.600098   \n2023-02-07 00:00:00+05:30  19394.770833  2162.250000  2172.000000   \n2023-02-08 00:00:00+05:30  19395.770833  2160.550049  2175.250000   \n2023-02-09 00:00:00+05:30  19396.770833  2150.000000  2151.949951   \n2023-02-10 00:00:00+05:30  19397.770833  2140.199951  2169.949951   \n2023-02-13 00:00:00+05:30  19400.770833  2173.000000  2210.399902   \n2023-02-14 00:00:00+05:30  19401.770833  2215.000000  2216.000000   \n2023-02-15 00:00:00+05:30  19402.770833  2186.000000  2187.850098   \n2023-02-16 00:00:00+05:30  19403.770833  2186.800049  2202.300049   \n2023-02-17 00:00:00+05:30  19404.770833  2169.800049  2249.000000   \n2023-02-20 00:00:00+05:30  19407.770833  2233.699951  2252.000000   \n2023-02-21 00:00:00+05:30  19408.770833  2239.000000  2262.000000   \n2023-02-22 00:00:00+05:30  19409.770833  2229.000000  2241.000000   \n2023-02-23 00:00:00+05:30  19410.770833  2204.000000  2208.199951   \n2023-02-24 00:00:00+05:30  19411.770833  2160.000000  2172.300049   \n2023-02-27 00:00:00+05:30  19414.770833  2134.050049  2139.899902   \n2023-02-28 00:00:00+05:30  19415.770833  2115.000000  2138.300049   \n2023-03-01 00:00:00+05:30  19416.770833  2100.000000  2130.000000   \n2023-03-02 00:00:00+05:30  19417.770833  2129.949951  2149.000000   \n2023-03-03 00:00:00+05:30  19418.770833  2140.000000  2159.899902   \n2023-03-06 00:00:00+05:30  19421.770833  2158.250000  2184.850098   \n2023-03-08 00:00:00+05:30  19423.770833  2152.000000  2189.600098   \n2023-03-09 00:00:00+05:30  19424.770833  2174.949951  2199.000000   \n2023-03-10 00:00:00+05:30  19425.770833  2171.500000  2182.000000   \n2023-03-13 00:00:00+05:30  19428.770833  2164.050049  2178.949951   \n2023-03-14 00:00:00+05:30  19429.770833  2144.350098  2171.000000   \n2023-03-15 00:00:00+05:30  19430.770833  2164.199951  2212.449951   \n2023-03-16 00:00:00+05:30  19431.770833  2184.899902  2187.000000   \n2023-03-17 00:00:00+05:30  19432.770833  2186.699951  2228.899902   \n2023-03-20 00:00:00+05:30  19435.770833  2191.100098  2205.000000   \n2023-03-21 00:00:00+05:30  19436.770833  2182.699951  2227.000000   \n2023-03-22 00:00:00+05:30  19437.770833  2219.500000  2246.250000   \n2023-03-23 00:00:00+05:30  19438.770833  2214.000000  2242.000000   \n2023-03-24 00:00:00+05:30  19439.770833  2206.000000  2219.350098   \n2023-03-27 00:00:00+05:30  19442.770833  2175.050049  2190.000000   \n2023-03-28 00:00:00+05:30  19443.770833  2167.750000  2169.800049   \n\n                                   Low        Close       candlestick_pattern  \\\nDate                                                                            \n2023-01-02 00:00:00+05:30  2075.050049  2089.449951                NO_PATTERN   \n2023-01-03 00:00:00+05:30  2067.949951  2088.949951                NO_PATTERN   \n2023-01-04 00:00:00+05:30  2058.000000  2070.550049         CDLENGULFING_Bear   \n2023-01-05 00:00:00+05:30  2068.500000  2087.350098                NO_PATTERN   \n2023-01-06 00:00:00+05:30  2071.850098  2086.550049                NO_PATTERN   \n2023-01-09 00:00:00+05:30  2100.750000  2121.699951                NO_PATTERN   \n2023-01-10 00:00:00+05:30  2097.199951  2106.649902         CDLENGULFING_Bear   \n2023-01-11 00:00:00+05:30  2097.100098  2125.350098                NO_PATTERN   \n2023-01-12 00:00:00+05:30  2118.100098  2159.750000                NO_PATTERN   \n2023-01-13 00:00:00+05:30  2117.199951  2153.399902                NO_PATTERN   \n2023-01-16 00:00:00+05:30  2132.300049  2137.199951                NO_PATTERN   \n2023-01-17 00:00:00+05:30  2136.399902  2213.100098          CDLBELTHOLD_Bull   \n2023-01-18 00:00:00+05:30  2200.000000  2266.500000                NO_PATTERN   \n2023-01-19 00:00:00+05:30  2241.000000  2273.100098      CDLADVANCEBLOCK_Bear   \n2023-01-20 00:00:00+05:30  2238.449951  2249.949951         CDLENGULFING_Bear   \n2023-01-23 00:00:00+05:30  2227.000000  2233.500000          CDL3OUTSIDE_Bear   \n2023-01-24 00:00:00+05:30  2200.000000  2207.500000                NO_PATTERN   \n2023-01-25 00:00:00+05:30  2155.000000  2174.699951                NO_PATTERN   \n2023-01-27 00:00:00+05:30  2127.100098  2159.850098       CDLSPINNINGTOP_Bear   \n2023-01-30 00:00:00+05:30  2083.800049  2112.899902       CDLSPINNINGTOP_Bear   \n2023-01-31 00:00:00+05:30  2072.649902  2124.399902    CDLLONGLEGGEDDOJI_Bull   \n2023-02-01 00:00:00+05:30  2080.300049  2145.550049          CDLHIGHWAVE_Bull   \n2023-02-02 00:00:00+05:30  2107.850098  2144.899902  CDLGAPSIDESIDEWHITE_Bull   \n2023-02-03 00:00:00+05:30  2131.050049  2166.550049           CDLHIKKAKE_Bear   \n2023-02-06 00:00:00+05:30  2142.300049  2156.100098       CDLSPINNINGTOP_Bear   \n2023-02-07 00:00:00+05:30  2150.050049  2165.300049         CDLTASUKIGAP_Bear   \n2023-02-08 00:00:00+05:30  2125.550049  2130.850098   CDLCLOSINGMARUBOZU_Bear   \n2023-02-09 00:00:00+05:30  2135.699951  2147.399902      CDLHOMINGPIGEON_Bull   \n2023-02-10 00:00:00+05:30  2137.550049  2163.850098           CDL3INSIDE_Bull   \n2023-02-13 00:00:00+05:30  2160.199951  2203.300049          CDL3OUTSIDE_Bull   \n2023-02-14 00:00:00+05:30  2182.149902  2191.649902          CDLBELTHOLD_Bear   \n2023-02-15 00:00:00+05:30  2157.250000  2175.050049            CDLHAMMER_Bull   \n2023-02-16 00:00:00+05:30  2171.699951  2178.300049                NO_PATTERN   \n2023-02-17 00:00:00+05:30  2160.000000  2226.350098         CDLENGULFING_Bull   \n2023-02-20 00:00:00+05:30  2215.000000  2225.500000       CDLSPINNINGTOP_Bear   \n2023-02-21 00:00:00+05:30  2222.699951  2229.449951                NO_PATTERN   \n2023-02-22 00:00:00+05:30  2182.050049  2194.750000                NO_PATTERN   \n2023-02-23 00:00:00+05:30  2153.500000  2159.149902                NO_PATTERN   \n2023-02-24 00:00:00+05:30  2118.750000  2134.050049                NO_PATTERN   \n2023-02-27 00:00:00+05:30  2082.100098  2113.699951                NO_PATTERN   \n2023-02-28 00:00:00+05:30  2085.000000  2109.149902          CDLHIGHWAVE_Bear   \n2023-03-01 00:00:00+05:30  2100.000000  2115.300049         CDLENGULFING_Bull   \n2023-03-02 00:00:00+05:30  2107.550049  2121.600098          CDL3OUTSIDE_Bull   \n2023-03-03 00:00:00+05:30  2132.250000  2152.050049                NO_PATTERN   \n2023-03-06 00:00:00+05:30  2139.800049  2141.149902                NO_PATTERN   \n2023-03-08 00:00:00+05:30  2140.600098  2170.800049                NO_PATTERN   \n2023-03-09 00:00:00+05:30  2171.500000  2193.199951                NO_PATTERN   \n2023-03-10 00:00:00+05:30  2133.000000  2157.850098                NO_PATTERN   \n2023-03-13 00:00:00+05:30  2107.000000  2133.850098                NO_PATTERN   \n2023-03-14 00:00:00+05:30  2134.399902  2144.199951      CDLHOMINGPIGEON_Bull   \n2023-03-15 00:00:00+05:30  2160.000000  2176.649902           CDL3INSIDE_Bull   \n2023-03-16 00:00:00+05:30  2132.000000  2173.600098                NO_PATTERN   \n2023-03-17 00:00:00+05:30  2186.699951  2195.750000      CDLSHOOTINGSTAR_Bear   \n2023-03-20 00:00:00+05:30  2152.000000  2177.550049       CDLSPINNINGTOP_Bear   \n2023-03-21 00:00:00+05:30  2182.000000  2208.449951          CDLBELTHOLD_Bull   \n2023-03-22 00:00:00+05:30  2207.899902  2213.949951       CDLSPINNINGTOP_Bear   \n2023-03-23 00:00:00+05:30  2200.550049  2206.649902            CDL2CROWS_Bear   \n2023-03-24 00:00:00+05:30  2153.050049  2166.149902                NO_PATTERN   \n2023-03-27 00:00:00+05:30  2150.000000  2154.000000   CDLCLOSINGMARUBOZU_Bear   \n2023-03-28 00:00:00+05:30  2122.449951  2133.600098          CDLBELTHOLD_Bear   \n\n                           candlestick_match_count  \nDate                                                \n2023-01-02 00:00:00+05:30                      0.0  \n2023-01-03 00:00:00+05:30                      0.0  \n2023-01-04 00:00:00+05:30                      1.0  \n2023-01-05 00:00:00+05:30                      0.0  \n2023-01-06 00:00:00+05:30                      0.0  \n2023-01-09 00:00:00+05:30                      0.0  \n2023-01-10 00:00:00+05:30                      1.0  \n2023-01-11 00:00:00+05:30                      0.0  \n2023-01-12 00:00:00+05:30                      0.0  \n2023-01-13 00:00:00+05:30                      0.0  \n2023-01-16 00:00:00+05:30                      0.0  \n2023-01-17 00:00:00+05:30                      2.0  \n2023-01-18 00:00:00+05:30                      0.0  \n2023-01-19 00:00:00+05:30                      1.0  \n2023-01-20 00:00:00+05:30                      1.0  \n2023-01-23 00:00:00+05:30                      1.0  \n2023-01-24 00:00:00+05:30                      0.0  \n2023-01-25 00:00:00+05:30                      0.0  \n2023-01-27 00:00:00+05:30                      1.0  \n2023-01-30 00:00:00+05:30                      1.0  \n2023-01-31 00:00:00+05:30                      3.0  \n2023-02-01 00:00:00+05:30                      2.0  \n2023-02-02 00:00:00+05:30                      3.0  \n2023-02-03 00:00:00+05:30                      2.0  \n2023-02-06 00:00:00+05:30                      1.0  \n2023-02-07 00:00:00+05:30                      6.0  \n2023-02-08 00:00:00+05:30                      1.0  \n2023-02-09 00:00:00+05:30                      7.0  \n2023-02-10 00:00:00+05:30                      4.0  \n2023-02-13 00:00:00+05:30                      1.0  \n2023-02-14 00:00:00+05:30                      1.0  \n2023-02-15 00:00:00+05:30                      1.0  \n2023-02-16 00:00:00+05:30                      0.0  \n2023-02-17 00:00:00+05:30                      1.0  \n2023-02-20 00:00:00+05:30                      1.0  \n2023-02-21 00:00:00+05:30                      0.0  \n2023-02-22 00:00:00+05:30                      0.0  \n2023-02-23 00:00:00+05:30                      0.0  \n2023-02-24 00:00:00+05:30                      0.0  \n2023-02-27 00:00:00+05:30                      0.0  \n2023-02-28 00:00:00+05:30                      2.0  \n2023-03-01 00:00:00+05:30                      1.0  \n2023-03-02 00:00:00+05:30                      3.0  \n2023-03-03 00:00:00+05:30                      0.0  \n2023-03-06 00:00:00+05:30                      0.0  \n2023-03-08 00:00:00+05:30                      0.0  \n2023-03-09 00:00:00+05:30                      0.0  \n2023-03-10 00:00:00+05:30                      0.0  \n2023-03-13 00:00:00+05:30                      0.0  \n2023-03-14 00:00:00+05:30                      8.0  \n2023-03-15 00:00:00+05:30                      3.0  \n2023-03-16 00:00:00+05:30                      0.0  \n2023-03-17 00:00:00+05:30                      1.0  \n2023-03-20 00:00:00+05:30                      1.0  \n2023-03-21 00:00:00+05:30                      1.0  \n2023-03-22 00:00:00+05:30                      1.0  \n2023-03-23 00:00:00+05:30                      1.0  \n2023-03-24 00:00:00+05:30                      0.0  \n2023-03-27 00:00:00+05:30                      1.0  \n2023-03-28 00:00:00+05:30                      1.0  ",
      "text/html": "<div>\n<style scoped>\n    .dataframe tbody tr th:only-of-type {\n        vertical-align: middle;\n    }\n\n    .dataframe tbody tr th {\n        vertical-align: top;\n    }\n\n    .dataframe thead th {\n        text-align: right;\n    }\n</style>\n<table border=\"1\" class=\"dataframe\">\n  <thead>\n    <tr style=\"text-align: right;\">\n      <th></th>\n      <th>Date</th>\n      <th>Open</th>\n      <th>High</th>\n      <th>Low</th>\n      <th>Close</th>\n      <th>candlestick_pattern</th>\n      <th>candlestick_match_count</th>\n    </tr>\n    <tr>\n      <th>Date</th>\n      <th></th>\n      <th></th>\n      <th></th>\n      <th></th>\n      <th></th>\n      <th></th>\n      <th></th>\n    </tr>\n  </thead>\n  <tbody>\n    <tr>\n      <th>2023-01-02 00:00:00+05:30</th>\n      <td>19358.770833</td>\n      <td>2092.899902</td>\n      <td>2097.600098</td>\n      <td>2075.050049</td>\n      <td>2089.449951</td>\n      <td>NO_PATTERN</td>\n      <td>0.0</td>\n    </tr>\n    <tr>\n      <th>2023-01-03 00:00:00+05:30</th>\n      <td>19359.770833</td>\n      <td>2088.000000</td>\n      <td>2096.800049</td>\n      <td>2067.949951</td>\n      <td>2088.949951</td>\n      <td>NO_PATTERN</td>\n      <td>0.0</td>\n    </tr>\n    <tr>\n      <th>2023-01-04 00:00:00+05:30</th>\n      <td>19360.770833</td>\n      <td>2090.949951</td>\n      <td>2101.449951</td>\n      <td>2058.000000</td>\n      <td>2070.550049</td>\n      <td>CDLENGULFING_Bear</td>\n      <td>1.0</td>\n    </tr>\n    <tr>\n      <th>2023-01-05 00:00:00+05:30</th>\n      <td>19361.770833</td>\n      <td>2080.000000</td>\n      <td>2099.199951</td>\n      <td>2068.500000</td>\n      <td>2087.350098</td>\n      <td>NO_PATTERN</td>\n      <td>0.0</td>\n    </tr>\n    <tr>\n      <th>2023-01-06 00:00:00+05:30</th>\n      <td>19362.770833</td>\n      <td>2090.199951</td>\n      <td>2121.699951</td>\n      <td>2071.850098</td>\n      <td>2086.550049</td>\n      <td>NO_PATTERN</td>\n      <td>0.0</td>\n    </tr>\n    <tr>\n      <th>2023-01-09 00:00:00+05:30</th>\n      <td>19365.770833</td>\n      <td>2108.000000</td>\n      <td>2127.300049</td>\n      <td>2100.750000</td>\n      <td>2121.699951</td>\n      <td>NO_PATTERN</td>\n      <td>0.0</td>\n    </tr>\n    <tr>\n      <th>2023-01-10 00:00:00+05:30</th>\n      <td>19366.770833</td>\n      <td>2131.899902</td>\n      <td>2131.899902</td>\n      <td>2097.199951</td>\n      <td>2106.649902</td>\n      <td>CDLENGULFING_Bear</td>\n      <td>1.0</td>\n    </tr>\n    <tr>\n      <th>2023-01-11 00:00:00+05:30</th>\n      <td>19367.770833</td>\n      <td>2106.100098</td>\n      <td>2140.000000</td>\n      <td>2097.100098</td>\n      <td>2125.350098</td>\n      <td>NO_PATTERN</td>\n      <td>0.0</td>\n    </tr>\n    <tr>\n      <th>2023-01-12 00:00:00+05:30</th>\n      <td>19368.770833</td>\n      <td>2118.100098</td>\n      <td>2164.649902</td>\n      <td>2118.100098</td>\n      <td>2159.750000</td>\n      <td>NO_PATTERN</td>\n      <td>0.0</td>\n    </tr>\n    <tr>\n      <th>2023-01-13 00:00:00+05:30</th>\n      <td>19369.770833</td>\n      <td>2161.899902</td>\n      <td>2164.850098</td>\n      <td>2117.199951</td>\n      <td>2153.399902</td>\n      <td>NO_PATTERN</td>\n      <td>0.0</td>\n    </tr>\n    <tr>\n      <th>2023-01-16 00:00:00+05:30</th>\n      <td>19372.770833</td>\n      <td>2147.000000</td>\n      <td>2161.000000</td>\n      <td>2132.300049</td>\n      <td>2137.199951</td>\n      <td>NO_PATTERN</td>\n      <td>0.0</td>\n    </tr>\n    <tr>\n      <th>2023-01-17 00:00:00+05:30</th>\n      <td>19373.770833</td>\n      <td>2139.899902</td>\n      <td>2217.800049</td>\n      <td>2136.399902</td>\n      <td>2213.100098</td>\n      <td>CDLBELTHOLD_Bull</td>\n      <td>2.0</td>\n    </tr>\n    <tr>\n      <th>2023-01-18 00:00:00+05:30</th>\n      <td>19374.770833</td>\n      <td>2221.000000</td>\n      <td>2274.800049</td>\n      <td>2200.000000</td>\n      <td>2266.500000</td>\n      <td>NO_PATTERN</td>\n      <td>0.0</td>\n    </tr>\n    <tr>\n      <th>2023-01-19 00:00:00+05:30</th>\n      <td>19375.770833</td>\n      <td>2259.850098</td>\n      <td>2283.800049</td>\n      <td>2241.000000</td>\n      <td>2273.100098</td>\n      <td>CDLADVANCEBLOCK_Bear</td>\n      <td>1.0</td>\n    </tr>\n    <tr>\n      <th>2023-01-20 00:00:00+05:30</th>\n      <td>19376.770833</td>\n      <td>2282.449951</td>\n      <td>2297.649902</td>\n      <td>2238.449951</td>\n      <td>2249.949951</td>\n      <td>CDLENGULFING_Bear</td>\n      <td>1.0</td>\n    </tr>\n    <tr>\n      <th>2023-01-23 00:00:00+05:30</th>\n      <td>19379.770833</td>\n      <td>2255.000000</td>\n      <td>2273.300049</td>\n      <td>2227.000000</td>\n      <td>2233.500000</td>\n      <td>CDL3OUTSIDE_Bear</td>\n      <td>1.0</td>\n    </tr>\n    <tr>\n      <th>2023-01-24 00:00:00+05:30</th>\n      <td>19380.770833</td>\n      <td>2244.699951</td>\n      <td>2252.300049</td>\n      <td>2200.000000</td>\n      <td>2207.500000</td>\n      <td>NO_PATTERN</td>\n      <td>0.0</td>\n    </tr>\n    <tr>\n      <th>2023-01-25 00:00:00+05:30</th>\n      <td>19381.770833</td>\n      <td>2201.000000</td>\n      <td>2205.000000</td>\n      <td>2155.000000</td>\n      <td>2174.699951</td>\n      <td>NO_PATTERN</td>\n      <td>0.0</td>\n    </tr>\n    <tr>\n      <th>2023-01-27 00:00:00+05:30</th>\n      <td>19383.770833</td>\n      <td>2174.699951</td>\n      <td>2195.000000</td>\n      <td>2127.100098</td>\n      <td>2159.850098</td>\n      <td>CDLSPINNINGTOP_Bear</td>\n      <td>1.0</td>\n    </tr>\n    <tr>\n      <th>2023-01-30 00:00:00+05:30</th>\n      <td>19386.770833</td>\n      <td>2129.399902</td>\n      <td>2173.250000</td>\n      <td>2083.800049</td>\n      <td>2112.899902</td>\n      <td>CDLSPINNINGTOP_Bear</td>\n      <td>1.0</td>\n    </tr>\n    <tr>\n      <th>2023-01-31 00:00:00+05:30</th>\n      <td>19387.770833</td>\n      <td>2119.949951</td>\n      <td>2132.750000</td>\n      <td>2072.649902</td>\n      <td>2124.399902</td>\n      <td>CDLLONGLEGGEDDOJI_Bull</td>\n      <td>3.0</td>\n    </tr>\n    <tr>\n      <th>2023-02-01 00:00:00+05:30</th>\n      <td>19388.770833</td>\n      <td>2133.000000</td>\n      <td>2215.949951</td>\n      <td>2080.300049</td>\n      <td>2145.550049</td>\n      <td>CDLHIGHWAVE_Bull</td>\n      <td>2.0</td>\n    </tr>\n    <tr>\n      <th>2023-02-02 00:00:00+05:30</th>\n      <td>19389.770833</td>\n      <td>2135.600098</td>\n      <td>2166.949951</td>\n      <td>2107.850098</td>\n      <td>2144.899902</td>\n      <td>CDLGAPSIDESIDEWHITE_Bull</td>\n      <td>3.0</td>\n    </tr>\n    <tr>\n      <th>2023-02-03 00:00:00+05:30</th>\n      <td>19390.770833</td>\n      <td>2176.949951</td>\n      <td>2181.850098</td>\n      <td>2131.050049</td>\n      <td>2166.550049</td>\n      <td>CDLHIKKAKE_Bear</td>\n      <td>2.0</td>\n    </tr>\n    <tr>\n      <th>2023-02-06 00:00:00+05:30</th>\n      <td>19393.770833</td>\n      <td>2164.250000</td>\n      <td>2181.600098</td>\n      <td>2142.300049</td>\n      <td>2156.100098</td>\n      <td>CDLSPINNINGTOP_Bear</td>\n      <td>1.0</td>\n    </tr>\n    <tr>\n      <th>2023-02-07 00:00:00+05:30</th>\n      <td>19394.770833</td>\n      <td>2162.250000</td>\n      <td>2172.000000</td>\n      <td>2150.050049</td>\n      <td>2165.300049</td>\n      <td>CDLTASUKIGAP_Bear</td>\n      <td>6.0</td>\n    </tr>\n    <tr>\n      <th>2023-02-08 00:00:00+05:30</th>\n      <td>19395.770833</td>\n      <td>2160.550049</td>\n      <td>2175.250000</td>\n      <td>2125.550049</td>\n      <td>2130.850098</td>\n      <td>CDLCLOSINGMARUBOZU_Bear</td>\n      <td>1.0</td>\n    </tr>\n    <tr>\n      <th>2023-02-09 00:00:00+05:30</th>\n      <td>19396.770833</td>\n      <td>2150.000000</td>\n      <td>2151.949951</td>\n      <td>2135.699951</td>\n      <td>2147.399902</td>\n      <td>CDLHOMINGPIGEON_Bull</td>\n      <td>7.0</td>\n    </tr>\n    <tr>\n      <th>2023-02-10 00:00:00+05:30</th>\n      <td>19397.770833</td>\n      <td>2140.199951</td>\n      <td>2169.949951</td>\n      <td>2137.550049</td>\n      <td>2163.850098</td>\n      <td>CDL3INSIDE_Bull</td>\n      <td>4.0</td>\n    </tr>\n    <tr>\n      <th>2023-02-13 00:00:00+05:30</th>\n      <td>19400.770833</td>\n      <td>2173.000000</td>\n      <td>2210.399902</td>\n      <td>2160.199951</td>\n      <td>2203.300049</td>\n      <td>CDL3OUTSIDE_Bull</td>\n      <td>1.0</td>\n    </tr>\n    <tr>\n      <th>2023-02-14 00:00:00+05:30</th>\n      <td>19401.770833</td>\n      <td>2215.000000</td>\n      <td>2216.000000</td>\n      <td>2182.149902</td>\n      <td>2191.649902</td>\n      <td>CDLBELTHOLD_Bear</td>\n      <td>1.0</td>\n    </tr>\n    <tr>\n      <th>2023-02-15 00:00:00+05:30</th>\n      <td>19402.770833</td>\n      <td>2186.000000</td>\n      <td>2187.850098</td>\n      <td>2157.250000</td>\n      <td>2175.050049</td>\n      <td>CDLHAMMER_Bull</td>\n      <td>1.0</td>\n    </tr>\n    <tr>\n      <th>2023-02-16 00:00:00+05:30</th>\n      <td>19403.770833</td>\n      <td>2186.800049</td>\n      <td>2202.300049</td>\n      <td>2171.699951</td>\n      <td>2178.300049</td>\n      <td>NO_PATTERN</td>\n      <td>0.0</td>\n    </tr>\n    <tr>\n      <th>2023-02-17 00:00:00+05:30</th>\n      <td>19404.770833</td>\n      <td>2169.800049</td>\n      <td>2249.000000</td>\n      <td>2160.000000</td>\n      <td>2226.350098</td>\n      <td>CDLENGULFING_Bull</td>\n      <td>1.0</td>\n    </tr>\n    <tr>\n      <th>2023-02-20 00:00:00+05:30</th>\n      <td>19407.770833</td>\n      <td>2233.699951</td>\n      <td>2252.000000</td>\n      <td>2215.000000</td>\n      <td>2225.500000</td>\n      <td>CDLSPINNINGTOP_Bear</td>\n      <td>1.0</td>\n    </tr>\n    <tr>\n      <th>2023-02-21 00:00:00+05:30</th>\n      <td>19408.770833</td>\n      <td>2239.000000</td>\n      <td>2262.000000</td>\n      <td>2222.699951</td>\n      <td>2229.449951</td>\n      <td>NO_PATTERN</td>\n      <td>0.0</td>\n    </tr>\n    <tr>\n      <th>2023-02-22 00:00:00+05:30</th>\n      <td>19409.770833</td>\n      <td>2229.000000</td>\n      <td>2241.000000</td>\n      <td>2182.050049</td>\n      <td>2194.750000</td>\n      <td>NO_PATTERN</td>\n      <td>0.0</td>\n    </tr>\n    <tr>\n      <th>2023-02-23 00:00:00+05:30</th>\n      <td>19410.770833</td>\n      <td>2204.000000</td>\n      <td>2208.199951</td>\n      <td>2153.500000</td>\n      <td>2159.149902</td>\n      <td>NO_PATTERN</td>\n      <td>0.0</td>\n    </tr>\n    <tr>\n      <th>2023-02-24 00:00:00+05:30</th>\n      <td>19411.770833</td>\n      <td>2160.000000</td>\n      <td>2172.300049</td>\n      <td>2118.750000</td>\n      <td>2134.050049</td>\n      <td>NO_PATTERN</td>\n      <td>0.0</td>\n    </tr>\n    <tr>\n      <th>2023-02-27 00:00:00+05:30</th>\n      <td>19414.770833</td>\n      <td>2134.050049</td>\n      <td>2139.899902</td>\n      <td>2082.100098</td>\n      <td>2113.699951</td>\n      <td>NO_PATTERN</td>\n      <td>0.0</td>\n    </tr>\n    <tr>\n      <th>2023-02-28 00:00:00+05:30</th>\n      <td>19415.770833</td>\n      <td>2115.000000</td>\n      <td>2138.300049</td>\n      <td>2085.000000</td>\n      <td>2109.149902</td>\n      <td>CDLHIGHWAVE_Bear</td>\n      <td>2.0</td>\n    </tr>\n    <tr>\n      <th>2023-03-01 00:00:00+05:30</th>\n      <td>19416.770833</td>\n      <td>2100.000000</td>\n      <td>2130.000000</td>\n      <td>2100.000000</td>\n      <td>2115.300049</td>\n      <td>CDLENGULFING_Bull</td>\n      <td>1.0</td>\n    </tr>\n    <tr>\n      <th>2023-03-02 00:00:00+05:30</th>\n      <td>19417.770833</td>\n      <td>2129.949951</td>\n      <td>2149.000000</td>\n      <td>2107.550049</td>\n      <td>2121.600098</td>\n      <td>CDL3OUTSIDE_Bull</td>\n      <td>3.0</td>\n    </tr>\n    <tr>\n      <th>2023-03-03 00:00:00+05:30</th>\n      <td>19418.770833</td>\n      <td>2140.000000</td>\n      <td>2159.899902</td>\n      <td>2132.250000</td>\n      <td>2152.050049</td>\n      <td>NO_PATTERN</td>\n      <td>0.0</td>\n    </tr>\n    <tr>\n      <th>2023-03-06 00:00:00+05:30</th>\n      <td>19421.770833</td>\n      <td>2158.250000</td>\n      <td>2184.850098</td>\n      <td>2139.800049</td>\n      <td>2141.149902</td>\n      <td>NO_PATTERN</td>\n      <td>0.0</td>\n    </tr>\n    <tr>\n      <th>2023-03-08 00:00:00+05:30</th>\n      <td>19423.770833</td>\n      <td>2152.000000</td>\n      <td>2189.600098</td>\n      <td>2140.600098</td>\n      <td>2170.800049</td>\n      <td>NO_PATTERN</td>\n      <td>0.0</td>\n    </tr>\n    <tr>\n      <th>2023-03-09 00:00:00+05:30</th>\n      <td>19424.770833</td>\n      <td>2174.949951</td>\n      <td>2199.000000</td>\n      <td>2171.500000</td>\n      <td>2193.199951</td>\n      <td>NO_PATTERN</td>\n      <td>0.0</td>\n    </tr>\n    <tr>\n      <th>2023-03-10 00:00:00+05:30</th>\n      <td>19425.770833</td>\n      <td>2171.500000</td>\n      <td>2182.000000</td>\n      <td>2133.000000</td>\n      <td>2157.850098</td>\n      <td>NO_PATTERN</td>\n      <td>0.0</td>\n    </tr>\n    <tr>\n      <th>2023-03-13 00:00:00+05:30</th>\n      <td>19428.770833</td>\n      <td>2164.050049</td>\n      <td>2178.949951</td>\n      <td>2107.000000</td>\n      <td>2133.850098</td>\n      <td>NO_PATTERN</td>\n      <td>0.0</td>\n    </tr>\n    <tr>\n      <th>2023-03-14 00:00:00+05:30</th>\n      <td>19429.770833</td>\n      <td>2144.350098</td>\n      <td>2171.000000</td>\n      <td>2134.399902</td>\n      <td>2144.199951</td>\n      <td>CDLHOMINGPIGEON_Bull</td>\n      <td>8.0</td>\n    </tr>\n    <tr>\n      <th>2023-03-15 00:00:00+05:30</th>\n      <td>19430.770833</td>\n      <td>2164.199951</td>\n      <td>2212.449951</td>\n      <td>2160.000000</td>\n      <td>2176.649902</td>\n      <td>CDL3INSIDE_Bull</td>\n      <td>3.0</td>\n    </tr>\n    <tr>\n      <th>2023-03-16 00:00:00+05:30</th>\n      <td>19431.770833</td>\n      <td>2184.899902</td>\n      <td>2187.000000</td>\n      <td>2132.000000</td>\n      <td>2173.600098</td>\n      <td>NO_PATTERN</td>\n      <td>0.0</td>\n    </tr>\n    <tr>\n      <th>2023-03-17 00:00:00+05:30</th>\n      <td>19432.770833</td>\n      <td>2186.699951</td>\n      <td>2228.899902</td>\n      <td>2186.699951</td>\n      <td>2195.750000</td>\n      <td>CDLSHOOTINGSTAR_Bear</td>\n      <td>1.0</td>\n    </tr>\n    <tr>\n      <th>2023-03-20 00:00:00+05:30</th>\n      <td>19435.770833</td>\n      <td>2191.100098</td>\n      <td>2205.000000</td>\n      <td>2152.000000</td>\n      <td>2177.550049</td>\n      <td>CDLSPINNINGTOP_Bear</td>\n      <td>1.0</td>\n    </tr>\n    <tr>\n      <th>2023-03-21 00:00:00+05:30</th>\n      <td>19436.770833</td>\n      <td>2182.699951</td>\n      <td>2227.000000</td>\n      <td>2182.000000</td>\n      <td>2208.449951</td>\n      <td>CDLBELTHOLD_Bull</td>\n      <td>1.0</td>\n    </tr>\n    <tr>\n      <th>2023-03-22 00:00:00+05:30</th>\n      <td>19437.770833</td>\n      <td>2219.500000</td>\n      <td>2246.250000</td>\n      <td>2207.899902</td>\n      <td>2213.949951</td>\n      <td>CDLSPINNINGTOP_Bear</td>\n      <td>1.0</td>\n    </tr>\n    <tr>\n      <th>2023-03-23 00:00:00+05:30</th>\n      <td>19438.770833</td>\n      <td>2214.000000</td>\n      <td>2242.000000</td>\n      <td>2200.550049</td>\n      <td>2206.649902</td>\n      <td>CDL2CROWS_Bear</td>\n      <td>1.0</td>\n    </tr>\n    <tr>\n      <th>2023-03-24 00:00:00+05:30</th>\n      <td>19439.770833</td>\n      <td>2206.000000</td>\n      <td>2219.350098</td>\n      <td>2153.050049</td>\n      <td>2166.149902</td>\n      <td>NO_PATTERN</td>\n      <td>0.0</td>\n    </tr>\n    <tr>\n      <th>2023-03-27 00:00:00+05:30</th>\n      <td>19442.770833</td>\n      <td>2175.050049</td>\n      <td>2190.000000</td>\n      <td>2150.000000</td>\n      <td>2154.000000</td>\n      <td>CDLCLOSINGMARUBOZU_Bear</td>\n      <td>1.0</td>\n    </tr>\n    <tr>\n      <th>2023-03-28 00:00:00+05:30</th>\n      <td>19443.770833</td>\n      <td>2167.750000</td>\n      <td>2169.800049</td>\n      <td>2122.449951</td>\n      <td>2133.600098</td>\n      <td>CDLBELTHOLD_Bear</td>\n      <td>1.0</td>\n    </tr>\n  </tbody>\n</table>\n</div>"
     },
     "execution_count": 10,
     "metadata": {},
     "output_type": "execute_result"
    }
   ],
   "source": [
    "df1 = recognize_candlestick(df)\n",
    "df1.head(60)"
   ],
   "metadata": {
    "collapsed": false,
    "pycharm": {
     "name": "#%%\n"
    }
   }
  },
  {
   "cell_type": "code",
   "execution_count": 10,
   "outputs": [],
   "source": [],
   "metadata": {
    "collapsed": false,
    "pycharm": {
     "name": "#%%\n"
    }
   }
  },
  {
   "cell_type": "code",
   "execution_count": 10,
   "outputs": [],
   "source": [],
   "metadata": {
    "collapsed": false,
    "pycharm": {
     "name": "#%%\n"
    }
   }
  }
 ],
 "metadata": {
  "kernelspec": {
   "display_name": "Python 3",
   "language": "python",
   "name": "python3"
  },
  "language_info": {
   "codemirror_mode": {
    "name": "ipython",
    "version": 2
   },
   "file_extension": ".py",
   "mimetype": "text/x-python",
   "name": "python",
   "nbconvert_exporter": "python",
   "pygments_lexer": "ipython2",
   "version": "2.7.6"
  }
 },
 "nbformat": 4,
 "nbformat_minor": 0
}
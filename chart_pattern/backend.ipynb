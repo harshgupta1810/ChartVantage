{
 "cells": [
  {
   "cell_type": "code",
   "execution_count": 368,
   "metadata": {
    "collapsed": true
   },
   "outputs": [],
   "source": [
    "import pandas as pd\n",
    "import yfinance\n",
    "import numpy as np\n",
    "import matplotlib.dates as mpl_dates\n",
    "import matplotlib.pyplot as plt\n",
    "from datetime import date\n",
    "import matplotlib\n",
    "from scipy.signal import argrelextrema\n",
    "from statsmodels.nonparametric.kernel_regression import KernelReg\n",
    "from collections import defaultdict"
   ]
  },
  {
   "cell_type": "code",
   "execution_count": 369,
   "outputs": [],
   "source": [
    "stocksymbols = 'ITC.NS'\n",
    "ticker = yfinance.Ticker(stocksymbols)\n",
    "end = date.today()\n",
    "start = \"2020-01-01\"\n",
    "df = ticker.history(interval=\"1d\",start=start,end=end)"
   ],
   "metadata": {
    "collapsed": false,
    "pycharm": {
     "name": "#%%\n"
    }
   }
  },
  {
   "cell_type": "code",
   "execution_count": 370,
   "outputs": [],
   "source": [
    "df['Date'] = pd.to_datetime(df.index)\n",
    "df['Date'] = df['Date'].apply(mpl_dates.date2num)\n",
    "df.index = pd.to_datetime(df.index, errors='coerce')\n",
    "df.index = df.index.strftime('%d-%m-%y')\n",
    "df = df.loc[:,['Close']]"
   ],
   "metadata": {
    "collapsed": false,
    "pycharm": {
     "name": "#%%\n"
    }
   }
  },
  {
   "cell_type": "code",
   "execution_count": 371,
   "outputs": [],
   "source": [
    "def find_extrema(s, bw='cv_ls'):\n",
    "    \"\"\"\n",
    "    Input:\n",
    "        s: prices as pd.series\n",
    "        bw: bandwith as str or array like\n",
    "    Returns:\n",
    "        prices: with 0-based index as pd.series\n",
    "        extrema: extrema of prices as pd.series\n",
    "        smoothed_prices: smoothed prices using kernel regression as pd.series\n",
    "        smoothed_extrema: extrema of smoothed_prices as pd.series\n",
    "    \"\"\"\n",
    "    # Copy series so we can replace index and perform non-parametric\n",
    "    # kernel regression.\n",
    "    prices = s.copy()\n",
    "    prices = prices.reset_index()\n",
    "    prices.columns = ['date', 'price']\n",
    "    prices = prices['price']\n",
    "\n",
    "    kr = KernelReg([prices.values], [prices.index.to_numpy()], var_type='c', bw=bw)\n",
    "    f = kr.fit([prices.index])\n",
    "\n",
    "    # Use smoothed prices to determine local minima and maxima\n",
    "    smooth_prices = pd.Series(data=f[0], index=prices.index)\n",
    "    smooth_local_max = argrelextrema(smooth_prices.values, np.greater)[0]\n",
    "    smooth_local_min = argrelextrema(smooth_prices.values, np.less)[0]\n",
    "    local_max_min = np.sort(np.concatenate([smooth_local_max, smooth_local_min]))\n",
    "    smooth_extrema = smooth_prices.loc[local_max_min]\n",
    "\n",
    "    # Iterate over extrema arrays returning datetime of passed\n",
    "    # prices array. Uses idxmax and idxmin to window for local extrema.\n",
    "    price_local_max_dt = []\n",
    "    for i in smooth_local_max:\n",
    "        if (i>1) and (i<len(prices)-1):\n",
    "            price_local_max_dt.append(prices.iloc[i-2:i+2].idxmax())\n",
    "\n",
    "    price_local_min_dt = []\n",
    "    for i in smooth_local_min:\n",
    "        if (i>1) and (i<len(prices)-1):\n",
    "            price_local_min_dt.append(prices.iloc[i-2:i+2].idxmin())\n",
    "\n",
    "    maxima = pd.Series(prices.loc[price_local_max_dt])\n",
    "    minima = pd.Series(prices.loc[price_local_min_dt])\n",
    "    extrema = pd.concat([maxima, minima]).sort_index()\n",
    "\n",
    "    # Return series for each with bar as index\n",
    "    return extrema, prices, smooth_extrema, smooth_prices"
   ],
   "metadata": {
    "collapsed": false,
    "pycharm": {
     "name": "#%%\n"
    }
   }
  },
  {
   "cell_type": "code",
   "execution_count": 372,
   "outputs": [
    {
     "data": {
      "text/plain": "               Price\nDate                \n01-01-20  202.353333\n02-01-20  203.840607\n03-01-20  202.693268\n06-01-20  199.803726\n07-01-20  200.016220\n...              ...\n04-05-23  424.600006\n05-05-23  428.750000\n08-05-23  431.450012\n09-05-23  423.799988\n10-05-23  425.350006\n\n[833 rows x 1 columns]",
      "text/html": "<div>\n<style scoped>\n    .dataframe tbody tr th:only-of-type {\n        vertical-align: middle;\n    }\n\n    .dataframe tbody tr th {\n        vertical-align: top;\n    }\n\n    .dataframe thead th {\n        text-align: right;\n    }\n</style>\n<table border=\"1\" class=\"dataframe\">\n  <thead>\n    <tr style=\"text-align: right;\">\n      <th></th>\n      <th>Price</th>\n    </tr>\n    <tr>\n      <th>Date</th>\n      <th></th>\n    </tr>\n  </thead>\n  <tbody>\n    <tr>\n      <th>01-01-20</th>\n      <td>202.353333</td>\n    </tr>\n    <tr>\n      <th>02-01-20</th>\n      <td>203.840607</td>\n    </tr>\n    <tr>\n      <th>03-01-20</th>\n      <td>202.693268</td>\n    </tr>\n    <tr>\n      <th>06-01-20</th>\n      <td>199.803726</td>\n    </tr>\n    <tr>\n      <th>07-01-20</th>\n      <td>200.016220</td>\n    </tr>\n    <tr>\n      <th>...</th>\n      <td>...</td>\n    </tr>\n    <tr>\n      <th>04-05-23</th>\n      <td>424.600006</td>\n    </tr>\n    <tr>\n      <th>05-05-23</th>\n      <td>428.750000</td>\n    </tr>\n    <tr>\n      <th>08-05-23</th>\n      <td>431.450012</td>\n    </tr>\n    <tr>\n      <th>09-05-23</th>\n      <td>423.799988</td>\n    </tr>\n    <tr>\n      <th>10-05-23</th>\n      <td>425.350006</td>\n    </tr>\n  </tbody>\n</table>\n<p>833 rows × 1 columns</p>\n</div>"
     },
     "execution_count": 372,
     "metadata": {},
     "output_type": "execute_result"
    }
   ],
   "source": [
    "price = df['Close']\n",
    "index = df.index\n",
    "df1 = pd.DataFrame({'Price': price}, index=index)\n",
    "df1.index.name = 'Date'\n",
    "df1"
   ],
   "metadata": {
    "collapsed": false,
    "pycharm": {
     "name": "#%%\n"
    }
   }
  },
  {
   "cell_type": "code",
   "execution_count": 373,
   "outputs": [],
   "source": [
    "extrema, price, smooth_extrema, smooth_prices = find_extrema(df1)\n"
   ],
   "metadata": {
    "collapsed": false,
    "pycharm": {
     "name": "#%%\n"
    }
   }
  },
  {
   "cell_type": "code",
   "execution_count": 374,
   "outputs": [
    {
     "data": {
      "text/plain": "<Figure size 640x480 with 1 Axes>",
      "image/png": "[encoded data removed]"
     },
     "metadata": {},
     "output_type": "display_data"
    }
   ],
   "source": [
    "def plot_window(prices, extrema, smooth_prices, smooth_extrema, ax=None):\n",
    "    if ax is None:\n",
    "        fig = plt.figure()\n",
    "        ax = fig.add_subplot(111)\n",
    "\n",
    "    prices.plot(ax=ax, color='dodgerblue')\n",
    "    ax.scatter(extrema.index, extrema.values, color='red')\n",
    "    smooth_prices.plot(ax=ax, color='lightgrey')\n",
    "    ax.scatter(smooth_extrema.index, smooth_extrema.values, color='lightgrey')\n",
    "    plt.show()\n",
    "\n",
    "plot_window(price, extrema, smooth_prices, smooth_extrema)"
   ],
   "metadata": {
    "collapsed": false,
    "pycharm": {
     "name": "#%%\n"
    }
   }
  },
  {
   "cell_type": "code",
   "execution_count": 375,
   "outputs": [],
   "source": [
    "def find_patterns(s, max_bars=35):\n",
    "    \"\"\"\n",
    "    Input:\n",
    "        s: extrema as pd.series with bar number as index\n",
    "        max_bars: max bars for pattern to play out\n",
    "    Returns:\n",
    "        patterns: patterns as a defaultdict list of tuples\n",
    "        containing the start and end bar of the pattern\n",
    "    \"\"\"\n",
    "    patterns = defaultdict(list)\n",
    "\n",
    "    # Need to start at five extrema for pattern generation\n",
    "    for i in range(7, len(smooth_extrema)):\n",
    "        window = smooth_extrema.iloc[i-7:i]\n",
    "\n",
    "        # A pattern must play out within max_bars (default 35)\n",
    "        if (window.index[-1] - window.index[0]) > max_bars:\n",
    "            continue\n",
    "\n",
    "        # Using the notation from the paper to avoid mistakes\n",
    "        e1 = window.iloc[0]\n",
    "        e2 = window.iloc[1]\n",
    "        e3 = window.iloc[2]\n",
    "        e4 = window.iloc[3]\n",
    "        e5 = window.iloc[4]\n",
    "        e6 = window.iloc[5]\n",
    "        e7 = window.iloc[6]\n",
    "        pattern_found = False  # set to True when a pattern is found\n",
    "        # Head and Shoulders\n",
    "        if  (e2 > e1) and (e2 > e3) and \\\n",
    "                (e4 < e1) and (e4 < e5) and \\\n",
    "                (e6 < e3) and (e6 < e5) and \\\n",
    "                (e2 - min(e1, e3) >= 0.03 * np.mean([e1, e3])) and \\\n",
    "                (max(e4, e6) - e5 <= 0.05 * np.mean([e4, e6])):\n",
    "            patterns['Head_and_Shoulders'].append((window.index[0], window.index[-1]))\n",
    "        # Inverse Head and Shoulders\n",
    "        if (e2 < e1) and (e2 < e3) and \\\n",
    "                (e4 > e1) and (e4 > e5) and \\\n",
    "                (e6 > e3) and (e6 > e5) and \\\n",
    "                (max(e1, e3) - e2 >= 0.03 * np.mean([e1, e3])) and \\\n",
    "                (e5 - min(e4, e6) <= 0.05 * np.mean([e4, e6])):\n",
    "            patterns['Inverse_Head_and_Shoulders'].append((window.index[0], window.index[-1]))\n",
    "\n",
    "        # Bullish_Flag\n",
    "        if (abs(e2 - e4) <= 0.03 * np.mean([e1, e3, e5])) and \\\n",
    "                (e1 < e3) and (e2 < e3) and (e4 < e3) and (e5 < e3):\n",
    "            patterns['Bullish_Flag'].append((window.index[0], window.index[-1]))\n",
    "\n",
    "        # Bearish_Flag\n",
    "        if (abs(e2 - e4) <= 0.03 * np.mean([e1, e3, e5])) and \\\n",
    "                (e1 > e3) and (e2 > e3) and (e4 > e3) and (e5 > e3):\n",
    "            patterns['Bearish_Flag'].append((window.index[0], window.index[-1]))\n",
    "\n",
    "        # Bullish_Pennant\n",
    "        if (abs(e2 - e4) <= 0.03 * np.mean([e1, e3, e5])) and \\\n",
    "                (e1 < e2) and (e5 < e4) and (e2 < e3) and (e4 < e3):\n",
    "            patterns['Bullish_Pennant'].append((window.index[0], window.index[-1]))\n",
    "\n",
    "        # Bearish_Pennant\n",
    "        if (abs(e2 - e4) <= 0.03 * np.mean([e1, e3, e5])) and \\\n",
    "                (e1 > e2) and (e5 > e4) and (e2 > e3) and (e4 > e3):\n",
    "            patterns['Bearish_Pennant'].append((window.index[0], window.index[-1]))\n",
    "\n",
    "        # Ascending_Triangle\n",
    "        if (abs(e2 - e4) <= 0.03 * np.mean([e1, e3, e5])) and \\\n",
    "                (e1 < e3) and (e2 > e4) and (e5 < e3) and \\\n",
    "                (abs(e2 - e3) <= 0.03 * np.mean([e2, e3])) and \\\n",
    "                (abs(e4 - e3) <= 0.03 * np.mean([e3, e4])):\n",
    "            patterns['Ascending_Triangle'].append((window.index[0], window.index[-1]))\n",
    "\n",
    "        # Descending_Triangle\n",
    "        if (abs(e2 - e4) <= 0.03 * np.mean([e1, e3, e5])) and \\\n",
    "                (e1 > e3) and (e2 < e4) and (e5 > e3) and \\\n",
    "                (abs(e2 - e3) <= 0.03 * np.mean([e2, e3])) and \\\n",
    "                (abs(e4 - e3) <= 0.03 * np.mean([e3, e4])):\n",
    "            patterns['Descending_Triangle'].append((window.index[0], window.index[-1]))\n",
    "\n",
    "        # Bullish_Channel\n",
    "        if (abs(e2 - e4) <= 0.03 * np.mean([e1, e3, e5])) and \\\n",
    "                (e1 < e3) and (e5 > e3) and \\\n",
    "                (abs(e2 - e3) <= 0.03 * np.mean([e2, e3])) and \\\n",
    "                (abs(e4 - e3) <= 0.03 * np.mean([e3, e4])):\n",
    "            patterns['Bullish_Channel'].append((window.index[0], window.index[-1]))\n",
    "\n",
    "        # Bearish_Channel\n",
    "        if (abs(e2 - e4) <= 0.03 * np.mean([e1, e3, e5])) and \\\n",
    "                (e1 > e3) and (e5 < e3) and \\\n",
    "                (abs(e2 - e3) <= 0.03 * np.mean([e2, e3])) and \\\n",
    "                (abs(e4 - e3) <= 0.03 * np.mean([e3, e4])):\n",
    "            patterns['Bearish_Channel'].append((window.index[0], window.index[-1]))\n",
    "\n",
    "        # Horizontal_Channel\n",
    "        if (abs(e2 - e4) <= 0.03 * np.mean([e1, e3, e5])) and \\\n",
    "                (abs(e1 - e3) <= 0.03 * np.mean([e1, e3, e5])) and \\\n",
    "                (abs(e4 - e5) <= 0.03 * np.mean([e1, e3, e5])):\n",
    "            patterns['Horizontal_Channel'].append((window.index[0], window.index[-1]))\n",
    "\n",
    "        # Cup_with_Handle\n",
    "        if (e1 < e2) and (e3 < e2) and (e4 < e2) and (e5 < e2) and \\\n",
    "                (abs(e1 - e3) <= 0.1 * np.mean([e1, e3, e5])) and \\\n",
    "                (abs(e4 - e2) <= 0.1 * np.mean([e1, e3, e5])) and \\\n",
    "                (abs(e5 - e2) <= 0.1 * np.mean([e1, e3, e5])) and \\\n",
    "                (abs(e1 - e5) <= 0.3 * np.mean([e1, e3, e5])) and \\\n",
    "                (e6 > np.mean([e1, e3, e5])) and (e7 > np.mean([e1, e3, e5])) and \\\n",
    "                (abs(e6 - e7) <= 0.1 * np.mean([e6, e7])):\n",
    "            patterns['Cup_with_Handle'].append((window.index[0], window.index[-1]))\n",
    "\n",
    "        # Symmetrical_Triangle\n",
    "        if (abs(e2 - e4) <= 0.03 * np.mean([e1, e3, e5])) and \\\n",
    "                (abs(e1 - e3) <= 0.03 * np.mean([e1, e3, e5])) and \\\n",
    "                (abs(e4 - e5) <= 0.03 * np.mean([e1, e3, e5])) and \\\n",
    "                ((e2 < e4 and e2 < e1 and e2 < e3 and e4 < e5) or \\\n",
    "                 (e2 > e4 and e2 > e1 and e2 > e3 and e4 > e5)):\n",
    "            patterns['Symmetrical_Triangle'].append((window.index[0], window.index[-1]))\n",
    "\n",
    "        # Rectangle\n",
    "        if (abs(e2 - e4) <= 0.03 * np.mean([e1, e3, e5])) and \\\n",
    "                (abs(e1 - e3) <= 0.03 * np.mean([e1, e3, e5])) and \\\n",
    "                (abs(e4 - e5) <= 0.03 * np.mean([e1, e3, e5])) and \\\n",
    "                ((e2 < e4 and e2 < e1 and e5 > e3) or (e2 > e4 and e2 > e1 and e5 < e3)):\n",
    "            patterns['Rectangle'].append((window.index[0], window.index[-1]))\n",
    "\n",
    "        # Double_Top\n",
    "        if (e2 > e1) and (e2 > e3) and (e4 > e3) and (e4 > e5) and \\\n",
    "                (abs(e2 - e4) <= 0.03 * np.mean([e1, e3, e5])) and \\\n",
    "                (abs(e1 - e3) <= 0.03 * np.mean([e1, e3, e5])) and \\\n",
    "                (abs(e4 - e5) <= 0.03 * np.mean([e1, e3, e5])):\n",
    "            patterns['Double_Top'].append((window.index[0], window.index[-1]))\n",
    "\n",
    "        # Double_Bottom\n",
    "        if (e2 < e1) and (e2 < e3) and (e4 < e3) and (e4 < e5) and \\\n",
    "                (abs(e2 - e4) <= 0.03 * np.mean([e1, e3, e5])) and \\\n",
    "                (abs(e1 - e3) <= 0.03 * np.mean([e1, e3, e5])) and \\\n",
    "                (abs(e4 - e5) <= 0.03 * np.mean([e1, e3, e5])):\n",
    "            patterns['Double_Bottom'].append((window.index[0], window.index[-1]))\n",
    "\n",
    "        # Diamond_Top\n",
    "        if (e2 < e1) and (e2 < e3) and (e4 < e3) and (e4 < e5) and \\\n",
    "                (abs(e2 - e4) >= 0.7 * np.mean([e1, e3, e5])) and \\\n",
    "                (abs(e1 - e3) <= 0.03 * np.mean([e1, e3, e5])) and \\\n",
    "                (abs(e4 - e5) <= 0.03 * np.mean([e1, e3, e5])):\n",
    "            patterns['Diamond_Top'].append((window.index[0], window.index[-1]))\n",
    "\n",
    "        # Falling_Wedge\n",
    "        if (e2 > e1) and (e2 > e3) and (e4 > e3) and (e4 > e5) and \\\n",
    "                (e1 - e2 >= 0.15 * np.mean([e1, e3, e5])) and \\\n",
    "                (e1 - e2 <= 0.618 * (e1 - e3)) and \\\n",
    "                (e4 - e5 >= 0.15 * np.mean([e1, e3, e5])) and \\\n",
    "                (e4 - e5 <= 0.618 * (e1 - e3)):\n",
    "            patterns['Falling_Wedge'].append((window.index[0], window.index[-1]))\n",
    "\n",
    "        # Rising_Wedge\n",
    "        if (e2 < e1) and (e2 < e3) and (e4 < e3) and (e4 < e5) and \\\n",
    "                (e2 - e1 >= 0.15 * np.mean([e1, e3, e5])) and \\\n",
    "                (e2 - e1 <= 0.618 * (e3 - e1)) and \\\n",
    "                (e5 - e4 >= 0.15 * np.mean([e1, e3, e5])) and \\\n",
    "                (e5 - e4 <= 0.618 * (e3 - e1)):\n",
    "            patterns['Rising_Wedge'].append((window.index[0], window.index[-1]))\n",
    "\n",
    "        # Rounding_Bottom\n",
    "        if (e5 > e4) and (e4 > e3) and (e3 > e2) and (e2 > e1) and \\\n",
    "                (e1 < np.mean([e2, e5])) and (e5 - e1 >= 0.1 * np.mean([e1, e5])) and \\\n",
    "                (abs((e1 - np.min([e2, e3, e4, e5])) / (e5 - np.min([e2, e3, e4, e5]))) <= 0.15):\n",
    "            patterns['Rounding_Bottom'].append((window.index[0], window.index[-1]))\n",
    "\n",
    "        # Triple_Top\n",
    "        if (e1 > e2) and (e2 < e3) and (e3 > e4) and (e4 < e5) and \\\n",
    "                (e1 - np.min([e2, e3, e4]) >= 0.05 * np.mean([e1, e2, e3, e4, e5])) and \\\n",
    "                (e1 - e2 <= 0.05 * np.mean([e1, e2, e3, e4, e5])) and \\\n",
    "                (e3 - e2 <= 0.05 * np.mean([e1, e2, e3, e4, e5])) and \\\n",
    "                (e3 - e4 <= 0.05 * np.mean([e1, e2, e3, e4, e5])):\n",
    "            patterns['Triple_Top'].append((window.index[0], window.index[-1]))\n",
    "\n",
    "        # Triple_Bottom\n",
    "        if (e1 < e2) and (e2 > e3) and (e3 < e4) and (e4 > e5) and \\\n",
    "                (np.max([e2, e3, e4]) - e1 >= 0.05 * np.mean([e1, e2, e3, e4, e5])) and \\\n",
    "                (e2 - e1 <= 0.05 * np.mean([e1, e2, e3, e4, e5])) and \\\n",
    "                (e3 - e2 <= 0.05 * np.mean([e1, e2, e3, e4, e5])) and \\\n",
    "                (e4 - e3 <= 0.05 * np.mean([e1, e2, e3, e4, e5])):\n",
    "            patterns['Triple_Bottom'].append((window.index[0], window.index[-1]))\n",
    "\n",
    "\n",
    "    return patterns"
   ],
   "metadata": {
    "collapsed": false,
    "pycharm": {
     "name": "#%%\n"
    }
   }
  },
  {
   "cell_type": "code",
   "execution_count": 376,
   "outputs": [
    {
     "data": {
      "text/plain": "defaultdict(list,\n            {'Bullish_Flag': [(1, 25),\n              (138, 167),\n              (262, 293),\n              (293, 315),\n              (336, 350),\n              (346, 369),\n              (389, 414),\n              (429, 456),\n              (456, 483),\n              (672, 687),\n              (723, 744),\n              (744, 770)],\n             'Horizontal_Channel': [(1, 25),\n              (135, 166),\n              (138, 167),\n              (183, 197),\n              (185, 203),\n              (186, 207),\n              (187, 219),\n              (192, 221),\n              (238, 262),\n              (287, 309),\n              (305, 325),\n              (323, 337),\n              (325, 340),\n              (326, 343),\n              (337, 353),\n              (340, 358),\n              (343, 368),\n              (346, 369),\n              (347, 373),\n              (350, 375),\n              (353, 380),\n              (358, 385),\n              (368, 386),\n              (369, 389),\n              (373, 393),\n              (375, 398),\n              (380, 401),\n              (386, 411),\n              (389, 414),\n              (393, 416),\n              (398, 429),\n              (490, 514),\n              (495, 521),\n              (521, 556),\n              (568, 592),\n              (648, 672),\n              (650, 674),\n              (672, 687),\n              (682, 701),\n              (697, 720),\n              (717, 736),\n              (720, 737),\n              (721, 741),\n              (723, 744),\n              (727, 749),\n              (733, 752),\n              (736, 756),\n              (737, 759),\n              (741, 760),\n              (744, 770),\n              (749, 775)],\n             'Double_Bottom': [(1, 25),\n              (138, 167),\n              (185, 203),\n              (187, 219),\n              (238, 262),\n              (305, 325),\n              (325, 340),\n              (340, 358),\n              (346, 369),\n              (350, 375),\n              (358, 385),\n              (369, 389),\n              (375, 398),\n              (389, 414),\n              (398, 429),\n              (495, 521),\n              (521, 556),\n              (568, 592),\n              (648, 672),\n              (672, 687),\n              (697, 720),\n              (720, 737),\n              (723, 744),\n              (733, 752),\n              (737, 759),\n              (744, 770)],\n             'Bearish_Channel': [(20, 35),\n              (24, 52),\n              (73, 89),\n              (167, 194),\n              (185, 203),\n              (186, 207),\n              (187, 219),\n              (192, 221),\n              (287, 309),\n              (305, 325),\n              (315, 336),\n              (325, 340),\n              (350, 375),\n              (358, 385),\n              (368, 386),\n              (398, 429),\n              (521, 556),\n              (524, 558),\n              (682, 701),\n              (733, 752),\n              (736, 756),\n              (741, 760)],\n             'Bearish_Flag': [(102, 129),\n              (129, 155),\n              (326, 343),\n              (347, 373),\n              (373, 393),\n              (386, 411),\n              (567, 586),\n              (721, 741),\n              (749, 775)],\n             'Cup_with_Handle': [(102, 129),\n              (120, 145),\n              (192, 221),\n              (323, 337),\n              (326, 343),\n              (337, 353),\n              (368, 386),\n              (393, 416),\n              (479, 502),\n              (524, 558),\n              (749, 775)],\n             'Ascending_Triangle': [(120, 145),\n              (183, 197),\n              (309, 326),\n              (323, 337),\n              (346, 369),\n              (353, 380),\n              (393, 416),\n              (514, 536),\n              (727, 749),\n              (744, 770)],\n             'Double_Top': [(135, 166),\n              (183, 197),\n              (186, 207),\n              (192, 221),\n              (287, 309),\n              (323, 337),\n              (326, 343),\n              (337, 353),\n              (343, 368),\n              (347, 373),\n              (353, 380),\n              (368, 386),\n              (373, 393),\n              (380, 401),\n              (386, 411),\n              (393, 416),\n              (490, 514),\n              (650, 674),\n              (682, 701),\n              (717, 736),\n              (721, 741),\n              (727, 749),\n              (736, 756),\n              (741, 760),\n              (749, 775)],\n             'Triple_Bottom': [(135, 166), (332, 347)],\n             'Symmetrical_Triangle': [(138, 167),\n              (183, 197),\n              (186, 207),\n              (192, 221),\n              (238, 262),\n              (305, 325),\n              (323, 337),\n              (326, 343),\n              (337, 353),\n              (340, 358),\n              (347, 373),\n              (350, 375),\n              (353, 380),\n              (368, 386),\n              (375, 398),\n              (389, 414),\n              (393, 416),\n              (495, 521),\n              (568, 592),\n              (648, 672),\n              (697, 720),\n              (723, 744),\n              (727, 749),\n              (736, 756),\n              (749, 775)],\n             'Triple_Top': [(152, 185), (312, 327), (452, 477)],\n             'Rectangle': [(183, 197),\n              (186, 207),\n              (192, 221),\n              (238, 262),\n              (323, 337),\n              (340, 358),\n              (353, 380),\n              (368, 386),\n              (375, 398),\n              (393, 416),\n              (495, 521),\n              (568, 592),\n              (648, 672),\n              (697, 720),\n              (727, 749),\n              (736, 756)],\n             'Descending_Triangle': [(238, 262),\n              (327, 346),\n              (340, 358),\n              (373, 393),\n              (483, 507),\n              (568, 592),\n              (709, 733),\n              (721, 741),\n              (752, 781)],\n             'Bullish_Channel': [(288, 312),\n              (337, 353),\n              (375, 398),\n              (385, 403),\n              (490, 514),\n              (495, 521),\n              (631, 659),\n              (648, 672),\n              (654, 678),\n              (683, 706),\n              (690, 717),\n              (697, 720),\n              (720, 737),\n              (781, 808)]})"
     },
     "execution_count": 376,
     "metadata": {},
     "output_type": "execute_result"
    }
   ],
   "source": [
    "a = find_patterns(df1)\n",
    "a"
   ],
   "metadata": {
    "collapsed": false,
    "pycharm": {
     "name": "#%%\n"
    }
   }
  },
  {
   "cell_type": "code",
   "execution_count": 377,
   "outputs": [],
   "source": [
    "pattern_ranking = {\n",
    " 'Head_and_Shoulders': 1,\n",
    " 'Bullish_Flag': 2,\n",
    " 'Bearish_Flag': 2,\n",
    " 'Ascending_Triangle': 3,\n",
    " 'Descending_Triangle': 3,\n",
    " 'Bullish_Channel': 4,\n",
    " 'Bearish_Channel': 4,\n",
    " 'Symmetrical_Triangle': 5,\n",
    " 'Rectangle': 6,\n",
    " 'Double_Top': 7,\n",
    " 'Double_Bottom': 7,\n",
    " 'Bullish_Pennant': 8,\n",
    " 'Bearish_Pennant': 8,\n",
    " 'Rounding_Bottom': 9,\n",
    " 'Diamond_Top': 10,\n",
    " 'Falling_Wedge': 11,\n",
    " 'Rising_Wedge': 11,\n",
    " 'Inverse_Head_and_Shoulders': 12,\n",
    " 'Horizontal_Channel': 13,\n",
    " 'Triple_Top': 14,\n",
    " 'Triple_Bottom': 14,\n",
    " 'Cup_with_Handle': 15\n",
    "}"
   ],
   "metadata": {
    "collapsed": false,
    "pycharm": {
     "name": "#%%\n"
    }
   }
  },
  {
   "cell_type": "code",
   "execution_count": 378,
   "outputs": [
    {
     "data": {
      "text/plain": "[('Double_Bottom', '02-01-20', '05-02-20'),\n ('Symmetrical_Triangle', '23-07-20', '02-09-20'),\n ('Bullish_Flag', '18-01-21', '03-03-21'),\n ('Bullish_Flag', '03-03-21', '07-04-21'),\n ('Bullish_Flag', '10-05-21', '31-05-21'),\n ('Ascending_Triangle', '25-05-21', '25-06-21'),\n ('Symmetrical_Triangle', '26-07-21', '31-08-21'),\n ('Bullish_Flag', '22-09-21', '01-11-21'),\n ('Bullish_Flag', '01-11-21', '10-12-21'),\n ('Double_Bottom', '14-09-22', '06-10-22'),\n ('Symmetrical_Triangle', '29-11-22', '28-12-22'),\n ('Ascending_Triangle', '28-12-22', '03-02-23'),\n ('Triple_Bottom', '20-07-20', '01-09-20'),\n ('Rectangle', '24-09-20', '15-10-20'),\n ('Bearish_Channel', '28-09-20', '23-10-20'),\n ('Rectangle', '29-09-20', '29-10-20'),\n ('Bearish_Channel', '30-09-20', '14-11-20'),\n ('Rectangle', '08-10-20', '18-11-20'),\n ('Descending_Triangle', '14-12-20', '18-01-21'),\n ('Double_Top', '23-02-21', '26-03-21'),\n ('Symmetrical_Triangle', '22-03-21', '23-04-21'),\n ('Rectangle', '20-04-21', '11-05-21'),\n ('Bearish_Channel', '23-04-21', '17-05-21'),\n ('Symmetrical_Triangle', '26-04-21', '20-05-21'),\n ('Bullish_Channel', '11-05-21', '03-06-21'),\n ('Descending_Triangle', '17-05-21', '10-06-21'),\n ('Double_Top', '20-05-21', '24-06-21'),\n ('Symmetrical_Triangle', '26-05-21', '01-07-21'),\n ('Symmetrical_Triangle', '31-05-21', '05-07-21'),\n ('Rectangle', '03-06-21', '12-07-21'),\n ('Bearish_Channel', '10-06-21', '19-07-21'),\n ('Rectangle', '24-06-21', '20-07-21'),\n ('Double_Bottom', '25-06-21', '26-07-21'),\n ('Descending_Triangle', '01-07-21', '30-07-21'),\n ('Bullish_Channel', '05-07-21', '06-08-21'),\n ('Double_Top', '12-07-21', '11-08-21'),\n ('Double_Top', '20-07-21', '26-08-21'),\n ('Rectangle', '30-07-21', '02-09-21'),\n ('Bearish_Channel', '06-08-21', '22-09-21'),\n ('Bullish_Channel', '21-12-21', '24-01-22'),\n ('Bullish_Channel', '28-12-21', '03-02-22'),\n ('Bearish_Channel', '03-02-22', '28-03-22'),\n ('Descending_Triangle', '13-04-22', '20-05-22'),\n ('Bullish_Channel', '08-08-22', '14-09-22'),\n ('Double_Top', '11-08-22', '16-09-22'),\n ('Double_Top', '28-09-22', '27-10-22'),\n ('Bullish_Channel', '20-10-22', '24-11-22'),\n ('Double_Top', '21-11-22', '16-12-22'),\n ('Bullish_Channel', '24-11-22', '19-12-22'),\n ('Descending_Triangle', '25-11-22', '23-12-22'),\n ('Rectangle', '05-12-22', '04-01-23'),\n ('Bearish_Channel', '13-12-22', '09-01-23'),\n ('Rectangle', '16-12-22', '13-01-23'),\n ('Double_Bottom', '19-12-22', '18-01-23'),\n ('Double_Top', '23-12-22', '19-01-23'),\n ('Symmetrical_Triangle', '04-01-23', '10-02-23'),\n ('Bearish_Channel', '29-01-20', '19-02-20'),\n ('Bearish_Channel', '04-02-20', '17-03-20'),\n ('Bearish_Channel', '21-04-20', '14-05-20'),\n ('Bearish_Channel', '02-09-20', '12-10-20'),\n ('Bearish_Channel', '07-04-21', '10-05-21'),\n ('Cup_with_Handle', '08-02-22', '30-03-22'),\n ('Cup_with_Handle', '03-06-20', '10-07-20'),\n ('Bearish_Flag', '10-07-20', '17-08-20'),\n ('Bearish_Flag', '12-04-22', '12-05-22'),\n ('Ascending_Triangle', '29-06-20', '03-08-20'),\n ('Cup_with_Handle', '06-12-21', '06-01-22'),\n ('Ascending_Triangle', '26-03-21', '26-04-21'),\n ('Ascending_Triangle', '24-01-22', '24-02-22'),\n ('Triple_Bottom', '04-05-21', '26-05-21'),\n ('Triple_Top', '12-08-20', '28-09-20'),\n ('Triple_Top', '01-04-21', '27-04-21'),\n ('Triple_Top', '26-10-21', '02-12-21'),\n ('Descending_Triangle', '27-04-21', '25-05-21'),\n ('Descending_Triangle', '10-12-21', '13-01-22'),\n ('Descending_Triangle', '09-11-22', '13-12-22'),\n ('Descending_Triangle', '09-01-23', '20-02-23'),\n ('Bullish_Channel', '24-02-21', '01-04-21'),\n ('Bullish_Channel', '19-07-21', '13-08-21'),\n ('Bullish_Channel', '14-07-22', '25-08-22'),\n ('Bullish_Channel', '18-08-22', '22-09-22'),\n ('Bullish_Channel', '29-09-22', '03-11-22'),\n ('Bullish_Channel', '11-10-22', '21-11-22'),\n ('Bullish_Channel', '20-02-23', '31-03-23')]"
     },
     "execution_count": 378,
     "metadata": {},
     "output_type": "execute_result"
    }
   ],
   "source": [
    "def get_best_pattern(patterns, pattern_ranking, df1):\n",
    "    # create a dictionary to store the best pattern for each range\n",
    "    best_patterns = {}\n",
    "\n",
    "    # loop through the patterns\n",
    "    for pattern, ranges in patterns.items():\n",
    "        # loop through the ranges for this pattern\n",
    "        for start, end in ranges:\n",
    "            # if this is the first pattern for this range, add it to the dictionary\n",
    "            if (start, end) not in best_patterns:\n",
    "                # extract the start and end index values from df1 using iloc\n",
    "                start_index = df1.iloc[start].name\n",
    "                end_index = df1.iloc[end].name\n",
    "                best_patterns[(start_index, end_index)] = (pattern, pattern_ranking[pattern])\n",
    "            else:\n",
    "                # if there is already a pattern for this range, compare the rankings\n",
    "                current_ranking = pattern_ranking[best_patterns[(start, end)][0]]\n",
    "                new_ranking = pattern_ranking[pattern]\n",
    "                if new_ranking < current_ranking:\n",
    "                    # if this pattern has a higher ranking, replace the current best pattern\n",
    "                    # extract the start and end index values from df1 using iloc\n",
    "                    start_index = df1.iloc[start].name\n",
    "                    end_index = df1.iloc[end].name\n",
    "                    best_patterns[(start_index, end_index)] = (pattern, new_ranking)\n",
    "\n",
    "    # return a list of the best patterns for each range\n",
    "    return [(pattern, start, end) for (start, end), (pattern, ranking) in best_patterns.items()]\n",
    "b = get_best_pattern(a, pattern_ranking, df1)\n",
    "b"
   ],
   "metadata": {
    "collapsed": false,
    "pycharm": {
     "name": "#%%\n"
    }
   }
  },
  {
   "cell_type": "code",
   "execution_count": 379,
   "outputs": [],
   "source": [
    "def head_and_shoulders(df):\n",
    "\n",
    "    # Find the highest high and lowest low in the first and third peaks\n",
    "    first_peak_high = df.iloc[:df.shape[0]//3]['Close'].max()\n",
    "    first_peak_low = df.iloc[:df.shape[0]//3]['Close'].min()\n",
    "    third_peak_high = df.iloc[df.shape[0]//3*2:]['Close'].max()\n",
    "    third_peak_low = df.iloc[df.shape[0]//3*2:]['Close'].min()\n",
    "\n",
    "    # Find the neckline by connecting the lows of the first and third peaks\n",
    "    neckline = df[(df['Close'] == first_peak_low) | (df['Close'] == third_peak_low)]\n",
    "\n",
    "    # Find the distance between the neckline and the highest high of the pattern\n",
    "    distance = abs(first_peak_high - neckline.iloc[0]['Close'])\n",
    "\n",
    "    # Calculate the target and stoploss levels\n",
    "    target = third_peak_low - distance\n",
    "    stoploss = first_peak_high\n",
    "\n",
    "    return target, stoploss"
   ],
   "metadata": {
    "collapsed": false,
    "pycharm": {
     "name": "#%%\n"
    }
   }
  },
  {
   "cell_type": "code",
   "execution_count": 380,
   "outputs": [],
   "source": [
    "def bullish_flag(df):\n",
    "    # Calculate the flagpole height\n",
    "    flagpole = df['Close'].max() - df['Close'].min()\n",
    "\n",
    "    # Calculate the breakout level\n",
    "    breakout = df['Close'].max()\n",
    "\n",
    "    # Calculate the target level\n",
    "    target = breakout + flagpole\n",
    "\n",
    "    # Calculate the stop-loss level\n",
    "    stop_loss = df['Close'].min()\n",
    "\n",
    "    # Return the target and stop-loss levels\n",
    "    return target, stop_loss"
   ],
   "metadata": {
    "collapsed": false,
    "pycharm": {
     "name": "#%%\n"
    }
   }
  },
  {
   "cell_type": "code",
   "execution_count": 381,
   "outputs": [],
   "source": [
    "def bearish_flag(df):\n",
    "    # Calculate the flagpole height\n",
    "    flagpole = df['Close'].max() - df['Close'].min()\n",
    "\n",
    "    # Calculate the breakout level\n",
    "    breakout = df['Close'].min()\n",
    "\n",
    "    # Calculate the target level\n",
    "    target = breakout - flagpole\n",
    "\n",
    "    # Calculate the stop-loss level\n",
    "    stop_loss = df['Close'].max()\n",
    "\n",
    "    # Return the target and stop-loss levels\n",
    "    return target, stop_loss\n"
   ],
   "metadata": {
    "collapsed": false,
    "pycharm": {
     "name": "#%%\n"
    }
   }
  },
  {
   "cell_type": "code",
   "execution_count": 382,
   "outputs": [],
   "source": [
    "def ascending_triangle(df):\n",
    "    # Calculate the support and resistance levels\n",
    "    support = df['Close'].max()\n",
    "    resistance = df['Close'].min()\n",
    "\n",
    "    # Calculate the pattern height\n",
    "    pattern_height = support - resistance\n",
    "\n",
    "    # Calculate the target level\n",
    "    target = resistance + pattern_height\n",
    "\n",
    "    # Calculate the stop-loss level\n",
    "    stop_loss = support - pattern_height\n",
    "\n",
    "    # Return the target and stop-loss levels\n",
    "    return target, stop_loss\n"
   ],
   "metadata": {
    "collapsed": false,
    "pycharm": {
     "name": "#%%\n"
    }
   }
  },
  {
   "cell_type": "code",
   "execution_count": 383,
   "outputs": [],
   "source": [
    "def descending_triangle(df):\n",
    "    # Calculate the support and resistance levels\n",
    "    support = df['Close'].min()\n",
    "    resistance = df['Close'].min()\n",
    "\n",
    "    # Calculate the pattern height\n",
    "    pattern_height = resistance - support\n",
    "\n",
    "    # Calculate the target level\n",
    "    target = support - pattern_height\n",
    "\n",
    "    # Calculate the stop-loss level\n",
    "    stop_loss = resistance + pattern_height\n",
    "\n",
    "    # Return the target and stop-loss levels\n",
    "    return target, stop_loss"
   ],
   "metadata": {
    "collapsed": false,
    "pycharm": {
     "name": "#%%\n"
    }
   }
  },
  {
   "cell_type": "code",
   "execution_count": 384,
   "outputs": [],
   "source": [
    "def bullish_channel(df):\n",
    "    # Find the highest high and lowest low in the first and second touches\n",
    "    first_touch_high = df.iloc[:df.shape[0]//2]['Close'].max()\n",
    "    first_touch_low = df.iloc[:df.shape[0]//2]['Close'].min()\n",
    "    second_touch_high = df.iloc[df.shape[0]//2:]['Close'].max()\n",
    "    second_touch_low = df.iloc[df.shape[0]//2:]['Close'].min()\n",
    "\n",
    "    # Find the slope of the channel\n",
    "    slope = (second_touch_high - first_touch_high) / (df.shape[0]//2)\n",
    "\n",
    "    # Find the distance between the first touch and the channel\n",
    "    distance = abs(first_touch_high - first_touch_low)\n",
    "\n",
    "    # Calculate the target and stoploss levels\n",
    "    target = second_touch_high + distance\n",
    "    stoploss = first_touch_low - distance\n",
    "\n",
    "    return target, stoploss"
   ],
   "metadata": {
    "collapsed": false,
    "pycharm": {
     "name": "#%%\n"
    }
   }
  },
  {
   "cell_type": "code",
   "execution_count": 385,
   "outputs": [],
   "source": [
    "def bearish_channel(df):\n",
    "    # Find the highest high and lowest low in the first and second touches\n",
    "    first_touch_high = df.iloc[:df.shape[0]//2]['Close'].max()\n",
    "    first_touch_low = df.iloc[:df.shape[0]//2]['Close'].min()\n",
    "    second_touch_high = df.iloc[df.shape[0]//2:]['Close'].max()\n",
    "    second_touch_low = df.iloc[df.shape[0]//2:]['Close'].min()\n",
    "\n",
    "    # Find the slope of the channel\n",
    "    slope = (second_touch_low - first_touch_low) / (df.shape[0]//2)\n",
    "\n",
    "    # Find the distance between the first touch and the channel\n",
    "    distance = abs(first_touch_high - first_touch_low)\n",
    "\n",
    "    # Calculate the target and stoploss levels\n",
    "    target = second_touch_low - distance\n",
    "    stoploss = first_touch_high + distance\n",
    "\n",
    "    return target, stoploss"
   ],
   "metadata": {
    "collapsed": false,
    "pycharm": {
     "name": "#%%\n"
    }
   }
  },
  {
   "cell_type": "code",
   "execution_count": 386,
   "outputs": [],
   "source": [
    "def symmetrical_triangle(df):\n",
    "    # Find the highest high and lowest low in the first and second touches\n",
    "    first_touch_high = df.iloc[:df.shape[0]//2]['Close'].max()\n",
    "    first_touch_low = df.iloc[:df.shape[0]//2]['Close'].min()\n",
    "    second_touch_high = df.iloc[df.shape[0]//2:]['Close'].max()\n",
    "    second_touch_low = df.iloc[df.shape[0]//2:]['Close'].min()\n",
    "\n",
    "    # Find the distance between the first touch and the apex of the triangle\n",
    "    distance = abs(first_touch_high - first_touch_low)\n",
    "\n",
    "    # Calculate the target and stoploss levels\n",
    "    if first_touch_high < second_touch_high:\n",
    "        target = second_touch_high + distance\n",
    "        stoploss = first_touch_low - distance\n",
    "    else:\n",
    "        target = second_touch_low - distance\n",
    "        stoploss = first_touch_high + distance\n",
    "\n",
    "    return target, stoploss"
   ],
   "metadata": {
    "collapsed": false,
    "pycharm": {
     "name": "#%%\n"
    }
   }
  },
  {
   "cell_type": "code",
   "execution_count": 387,
   "outputs": [],
   "source": [
    "def rectangle(df):\n",
    "    # Find the highest high and lowest low in the range\n",
    "    high = df['Close'].max()\n",
    "    low = df['Close'].min()\n",
    "\n",
    "    # Find the distance between the high and the low\n",
    "    distance = abs(high - low)\n",
    "\n",
    "    # Calculate the target and stoploss levels\n",
    "    target = high + distance\n",
    "    stoploss = low - distance\n",
    "\n",
    "    return target, stoploss"
   ],
   "metadata": {
    "collapsed": false,
    "pycharm": {
     "name": "#%%\n"
    }
   }
  },
  {
   "cell_type": "code",
   "execution_count": 388,
   "outputs": [],
   "source": [
    "def double_top(df):\n",
    "    # Find the highest high in the first and second tops\n",
    "    first_top_high = df.iloc[:df.shape[0]//2]['Close'].max()\n",
    "    second_top_high = df.iloc[df.shape[0]//2:]['Close'].max()\n",
    "\n",
    "    # Find the lowest low in the valley\n",
    "    valley_low = df.iloc[df.shape[0]//4:3*df.shape[0]//4]['Close'].min()\n",
    "\n",
    "    # Find the distance between the valley and the first top\n",
    "    distance = abs(first_top_high - valley_low)\n",
    "\n",
    "    # Calculate the target and stoploss levels\n",
    "    target = second_top_high + distance\n",
    "    stoploss = valley_low - distance\n",
    "\n",
    "    return target, stoploss"
   ],
   "metadata": {
    "collapsed": false,
    "pycharm": {
     "name": "#%%\n"
    }
   }
  },
  {
   "cell_type": "code",
   "execution_count": 389,
   "outputs": [],
   "source": [
    "def double_bottom(df):\n",
    "    # Find the lowest low in the first and second bottoms\n",
    "    first_bottom_low = df.iloc[:df.shape[0]//2]['Close'].min()\n",
    "    second_bottom_low = df.iloc[df.shape[0]//2:]['Close'].min()\n",
    "\n",
    "    # Find the highest high in the valley\n",
    "    valley_high = df.iloc[df.shape[0]//4:3*df.shape[0]//4]['Close'].max()\n",
    "\n",
    "    # Find the distance between the valley and the first bottom\n",
    "    distance = abs(first_bottom_low - valley_high)\n",
    "\n",
    "    # Calculate the target and stoploss levels\n",
    "    target = second_bottom_low - distance\n",
    "    stoploss = valley_high + distance\n",
    "\n",
    "    return target, stoploss"
   ],
   "metadata": {
    "collapsed": false,
    "pycharm": {
     "name": "#%%\n"
    }
   }
  },
  {
   "cell_type": "code",
   "execution_count": 390,
   "outputs": [],
   "source": [
    "def bullish_pennant(df):\n",
    "    # Calculate the height of the pennant flagpole\n",
    "    flagpole_height = df[\"Close\"].iloc[-1] - df[\"Close\"].iloc[0]\n",
    "\n",
    "    # Calculate the breakout level (i.e., the top of the pennant)\n",
    "    breakout_level = df[\"Close\"].max()\n",
    "\n",
    "    # Calculate the target level\n",
    "    target = breakout_level + flagpole_height\n",
    "\n",
    "    # Calculate the stop loss level (i.e., the bottom of the pennant)\n",
    "    stop_loss = df[\"Close\"].min()\n",
    "\n",
    "    return (target, stop_loss)"
   ],
   "metadata": {
    "collapsed": false,
    "pycharm": {
     "name": "#%%\n"
    }
   }
  },
  {
   "cell_type": "code",
   "execution_count": 391,
   "outputs": [],
   "source": [
    "def bearish_pennant(df):\n",
    "    # Calculate the height of the pennant flagpole\n",
    "    flagpole_height = df[\"Close\"].iloc[-1] - df[\"Close\"].iloc[0]\n",
    "\n",
    "    # Calculate the breakout level (i.e., the top of the pennant)\n",
    "    breakout_level = df[\"Close\"].max()\n",
    "\n",
    "    # Calculate the target level\n",
    "    target = breakout_level - flagpole_height\n",
    "\n",
    "    # Calculate the stop loss level (i.e., the bottom of the pennant)\n",
    "    stop_loss = df[\"Close\"].max()\n",
    "\n",
    "    return (target, stop_loss)"
   ],
   "metadata": {
    "collapsed": false,
    "pycharm": {
     "name": "#%%\n"
    }
   }
  },
  {
   "cell_type": "code",
   "execution_count": 392,
   "outputs": [],
   "source": [
    "def rounding_bottom(df):\n",
    "    # Calculate the minimum price and its index\n",
    "    min_price = df['Close'].min()\n",
    "    min_idx = df['Close'].idxmin()\n",
    "\n",
    "    # Calculate the left and right sides of the pattern\n",
    "    left_side = df.loc[:min_idx, 'Close']\n",
    "    right_side = df.loc[min_idx:, 'Close']\n",
    "\n",
    "    # Calculate the resistance level\n",
    "    resistance = min_price + (left_side.max() - min_price) * 0.5\n",
    "\n",
    "    # Calculate the target and stoploss levels\n",
    "    target = resistance + (resistance - min_price)\n",
    "    stoploss = min_price - (left_side.max() - min_price)\n",
    "\n",
    "    return target, stoploss"
   ],
   "metadata": {
    "collapsed": false,
    "pycharm": {
     "name": "#%%\n"
    }
   }
  },
  {
   "cell_type": "code",
   "execution_count": 393,
   "outputs": [],
   "source": [
    "def diamond_top(df):\n",
    "    # Calculate the length of the pattern\n",
    "    length = len(df)\n",
    "\n",
    "    # Calculate the midpoint index\n",
    "    midpoint = length // 2\n",
    "\n",
    "    # Calculate the left and right sides of the pattern\n",
    "    left_side = df.iloc[:midpoint, df.columns.get_loc('Close')]\n",
    "    right_side = df.iloc[midpoint:, df.columns.get_loc('Close')]\n",
    "\n",
    "    # Calculate the resistance and support levels\n",
    "    resistance = left_side.max()\n",
    "    support = right_side.min()\n",
    "\n",
    "    # Calculate the target and stoploss levels\n",
    "    target = support - (resistance - support)\n",
    "    stoploss = resistance + (resistance - support)\n",
    "\n",
    "    return target, stoploss"
   ],
   "metadata": {
    "collapsed": false,
    "pycharm": {
     "name": "#%%\n"
    }
   }
  },
  {
   "cell_type": "code",
   "execution_count": 394,
   "outputs": [],
   "source": [
    "def falling_wedge(df):\n",
    "    # Calculate the length of the pattern\n",
    "    length = len(df)\n",
    "\n",
    "    # Calculate the midpoint index\n",
    "    midpoint = length // 2\n",
    "\n",
    "    # Calculate the left and right sides of the pattern\n",
    "    left_side = df.loc[:df.index[midpoint], 'Close']\n",
    "    right_side = df.loc[df.index[midpoint]:, 'Close']\n",
    "\n",
    "    # Calculate the resistance and support trendlines\n",
    "    resistance = left_side.max()\n",
    "    support = right_side.min()\n",
    "\n",
    "    # Calculate the target and stoploss levels\n",
    "    target = resistance - (resistance - support) * 2\n",
    "    stoploss = support - (resistance - support) * 0.5\n",
    "\n",
    "    return target, stoploss"
   ],
   "metadata": {
    "collapsed": false,
    "pycharm": {
     "name": "#%%\n"
    }
   }
  },
  {
   "cell_type": "code",
   "execution_count": 395,
   "outputs": [],
   "source": [
    "def rising_wedge(df):\n",
    "    # Calculate the length of the pattern\n",
    "    length = len(df)\n",
    "\n",
    "    # Calculate the midpoint index\n",
    "    midpoint = length // 2\n",
    "\n",
    "    # Calculate the left and right sides of the pattern\n",
    "    left_side = df.loc[:df.index[midpoint], 'Close']\n",
    "    right_side = df.loc[df.index[midpoint]:, 'Close']\n",
    "\n",
    "    # Calculate the resistance and support trendlines\n",
    "    resistance = right_side.min()\n",
    "    support = left_side.max()\n",
    "\n",
    "    # Calculate the target and stoploss levels\n",
    "    target = support - (resistance - support) * 0.5\n",
    "    stoploss = resistance - (resistance - support) * 2\n",
    "\n",
    "    return target, stoploss"
   ],
   "metadata": {
    "collapsed": false,
    "pycharm": {
     "name": "#%%\n"
    }
   }
  },
  {
   "cell_type": "code",
   "execution_count": 396,
   "outputs": [],
   "source": [
    "def Inverse_Head_and_Shoulders(df):\n",
    "    # Find the lowest price in the left shoulder\n",
    "    left_shoulder_low = df.iloc[:round(len(df)/3)]['Close'].min()\n",
    "\n",
    "    # Find the lowest price in the head\n",
    "    head_low = df.iloc[round(len(df)/3):round(len(df)*2/3)]['Close'].min()\n",
    "\n",
    "    # Find the lowest price in the right shoulder\n",
    "    right_shoulder_low = df.iloc[round(len(df)*2/3):]['Close'].min()\n",
    "\n",
    "    # Calculate the target price as the distance from the head to the neckline, added to the neckline\n",
    "    target_price = head_low + (head_low - left_shoulder_low)\n",
    "\n",
    "    # Calculate the stop loss as the distance from the head to the neckline, subtracted from the neckline\n",
    "    stop_loss = right_shoulder_low - (head_low - left_shoulder_low)\n",
    "\n",
    "    return target_price, stop_loss"
   ],
   "metadata": {
    "collapsed": false,
    "pycharm": {
     "name": "#%%\n"
    }
   }
  },
  {
   "cell_type": "code",
   "execution_count": 397,
   "outputs": [],
   "source": [
    "def Horizontal_Channel(df):\n",
    "    # Find the highest and lowest prices in the channel\n",
    "    channel_high = df['Close'].max()\n",
    "    channel_low = df['Close'].min()\n",
    "\n",
    "    # Calculate the target price as the distance from the channel high to the channel low, added to the channel high\n",
    "    target_price = channel_high + (channel_high - channel_low)\n",
    "\n",
    "    # Calculate the stop loss as the distance from the channel high to the channel low, subtracted from the channel low\n",
    "    stop_loss = channel_low - (channel_high - channel_low)\n",
    "\n",
    "    return (target_price, stop_loss)"
   ],
   "metadata": {
    "collapsed": false,
    "pycharm": {
     "name": "#%%\n"
    }
   }
  },
  {
   "cell_type": "code",
   "execution_count": 398,
   "outputs": [],
   "source": [
    "def Triple_Top(df):\n",
    "    # Find the highest price in the first top\n",
    "    first_top_high = df.iloc[:round(len(df)/3)]['Close'].max()\n",
    "\n",
    "    # Find the highest price in the second top\n",
    "    second_top_high = df.iloc[round(len(df)/3):round(len(df)*2/3)]['Close'].max()\n",
    "\n",
    "    # Find the highest price in the third top\n",
    "    third_top_high = df.iloc[round(len(df)*2/3):]['Close'].max()\n",
    "\n",
    "    # Calculate the target price as the distance from the triple top high to the neckline, subtracted from the neckline\n",
    "    target_price = df.iloc[round(len(df)*2/3):]['Close'].min() - (third_top_high - df.iloc[round(len(df)*2/3):]['Close'].min())\n",
    "\n",
    "    # Calculate the stop loss as the distance from the first top high to the neckline, added to the neckline\n",
    "    stop_loss = df.iloc[:round(len(df)/3)]['Close'].min() + (first_top_high - df.iloc[:round(len(df)/3)]['Close'].min())\n",
    "\n",
    "    return (target_price, stop_loss)"
   ],
   "metadata": {
    "collapsed": false,
    "pycharm": {
     "name": "#%%\n"
    }
   }
  },
  {
   "cell_type": "code",
   "execution_count": 399,
   "outputs": [],
   "source": [
    "def Triple_Bottom(df):\n",
    "    # Find the lowest price in the first bottom\n",
    "    first_bottom_low = df.iloc[:round(len(df)/3)]['Close'].min()\n",
    "\n",
    "    # Find the lowest price in the second bottom\n",
    "    second_bottom_low = df.iloc[round(len(df)/3):round(len(df)*2/3)]['Close'].min()\n",
    "\n",
    "    # Find the lowest price in the third bottom\n",
    "    third_bottom_low = df.iloc[round(len(df)*2/3):]['Close'].min()\n",
    "\n",
    "    # Calculate the target price as the distance from the triple bottom low to the neckline, added to the neckline\n",
    "    target_price = df.iloc[round(len(df)*2/3):]['Close'].max() + (df.iloc[round(len(df)*2/3):]['Close'].max() - third_bottom_low)\n",
    "\n",
    "    # Calculate the stop loss as the distance from the first bottom low to the neckline, subtracted from the neckline\n",
    "    stop_loss = df.iloc[:round(len(df)/3)]['Close'].max() - (first_bottom_low - df.iloc[:round(len(df)/3)]['Close'].max())\n",
    "\n",
    "    return (target_price, stop_loss)"
   ],
   "metadata": {
    "collapsed": false,
    "pycharm": {
     "name": "#%%\n"
    }
   }
  },
  {
   "cell_type": "code",
   "execution_count": 400,
   "outputs": [],
   "source": [
    "def Cup_with_Handle(df):\n",
    "    # Find the highest price in the cup\n",
    "    cup_high = df.iloc[:round(len(df)*0.7)]['Close'].max()\n",
    "\n",
    "    # Find the lowest price in the handle\n",
    "    handle_low = df.iloc[round(len(df)*0.7):]['Close'].min()\n",
    "\n",
    "    # Calculate the target price as the distance from the cup high to the breakout point, added to the breakout point\n",
    "    target_price = handle_low + (cup_high - handle_low)\n",
    "\n",
    "    # Calculate the stop loss as the distance from the cup high to the handle low, subtracted from the handle low\n",
    "    stop_loss = handle_low - (cup_high - handle_low)\n",
    "\n",
    "    return (target_price, stop_loss)"
   ],
   "metadata": {
    "collapsed": false,
    "pycharm": {
     "name": "#%%\n"
    }
   }
  },
  {
   "cell_type": "code",
   "execution_count": 401,
   "outputs": [],
   "source": [
    "def calculate_target_stoploss(patterns):\n",
    "    result = []\n",
    "    for pattern in patterns:\n",
    "        name, start, end = pattern\n",
    "\n",
    "        df2 = df.loc[start:end].copy()\n",
    "        df2.index = pd.to_datetime(df2.index)\n",
    "        # Convert the 'Close' column to a numeric data type using .loc\n",
    "        df2['Close'] = pd.to_numeric(df2['Close'], errors='coerce')\n",
    "\n",
    "        # Calculate the target and stop loss for the Bullish Flag pattern\n",
    "        target, stop_loss = Cup_with_Handle(df)\n",
    "\n",
    "        if name == 'Head_and_Shoulders':\n",
    "            target,stop_loss = head_and_shoulders(df2)\n",
    "            result.append((name, start,end,target, stop_loss))\n",
    "\n",
    "        elif name == 'Bullish_Flag':\n",
    "            target,stop_loss = bullish_flag(df2)\n",
    "            result.append((name, start,end,target, stop_loss))\n",
    "\n",
    "        elif name == 'Bearish_Flag':\n",
    "            target,stop_loss = bearish_flag(df2)\n",
    "            result.append((name, start,end,target, stop_loss))\n",
    "\n",
    "        elif name == 'Ascending_Triangle':\n",
    "            target,stop_loss = ascending_triangle(df2)\n",
    "            result.append((name, start,end,target, stop_loss))\n",
    "\n",
    "        elif name == 'Descending_Triangle':\n",
    "            target,stop_loss = descending_triangle(df2)\n",
    "            result.append((name, start,end,target, stop_loss))\n",
    "\n",
    "        elif name == 'Bullish_Channel':\n",
    "            target,stop_loss = bullish_channel(df2)\n",
    "            result.append((name, start,end,target, stop_loss))\n",
    "\n",
    "        elif name == 'Bearish_Channel' :\n",
    "            target,stop_loss = bearish_channel(df2)\n",
    "            result.append((name, start,end,target, stop_loss))\n",
    "\n",
    "        elif name == 'Symmetrical_Triangle':\n",
    "            target,stop_loss = symmetrical_triangle(df2)\n",
    "            result.append((name, start,end,target, stop_loss))\n",
    "\n",
    "        elif name == 'Rectangle':\n",
    "            target,stop_loss = rectangle(df2)\n",
    "            result.append((name, start,end,target, stop_loss))\n",
    "\n",
    "        elif name == 'Double_Top' :\n",
    "            target,stop_loss = double_top(df2)\n",
    "            result.append((name, start,end,target, stop_loss))\n",
    "\n",
    "        elif name == 'Double_Bottom':\n",
    "            target,stop_loss = double_bottom(df2)\n",
    "            result.append((name, start,end,target, stop_loss))\n",
    "\n",
    "        elif name == 'Bullish_Pennant' :\n",
    "            target,stop_loss = bullish_pennant(df2)\n",
    "            result.append((name, start,end,target, stop_loss))\n",
    "\n",
    "        elif name == 'Bearish_Pennant':\n",
    "            target,stop_loss = bearish_pennant(df2)\n",
    "            result.append((name, start,end,target, stop_loss))\n",
    "\n",
    "        elif name == 'Rounding_Bottom' :\n",
    "            target,stop_loss = rounding_bottom(df2)\n",
    "            result.append((name, start,end,target, stop_loss))\n",
    "\n",
    "        elif name == 'Diamond_Top':\n",
    "            target,stop_loss = diamond_top(df2)\n",
    "            result.append((name, start,end,target, stop_loss))\n",
    "\n",
    "        elif name == 'Falling_Wedge' :\n",
    "            target,stop_loss = falling_wedge(df2)\n",
    "            result.append((name, start,end,target, stop_loss))\n",
    "\n",
    "        elif name == 'Rising_Wedge' :\n",
    "            target,stop_loss = rising_wedge(df2)\n",
    "            result.append((name, start,end,target, stop_loss))\n",
    "\n",
    "        elif name == 'Inverse_Head_and_Shoulders' :\n",
    "            target,stop_loss = Inverse_Head_and_Shoulders(df2)\n",
    "            result.append((name, start,end,target, stop_loss))\n",
    "\n",
    "        elif name == 'Horizontal_Channel' :\n",
    "            target,stop_loss = Horizontal_Channel(df2)\n",
    "            result.append((name, start,end,target, stop_loss))\n",
    "\n",
    "        elif name == 'Triple_Top':\n",
    "            target,stop_loss = Triple_Top(df2)\n",
    "            result.append((name, start,end,target, stop_loss))\n",
    "\n",
    "        elif name == 'Triple_Bottom' :\n",
    "            target,stop_loss = Triple_Bottom(df2)\n",
    "            result.append((name, start,end,target, stop_loss))\n",
    "\n",
    "        elif name == 'Cup_with_Handle':\n",
    "            target,stop_loss = Cup_with_Handle(df2)\n",
    "            result.append((name, start,end,target, stop_loss))\n",
    "\n",
    "\n",
    "\n",
    "        else:\n",
    "            # For other patterns, set the target and stop loss to None\n",
    "            target = None\n",
    "            stop_loss = None\n",
    "            result.append((name, start,end,target, stop_loss))\n",
    "\n",
    "        # Add a check to make sure that target and stop_loss are not None\n",
    "\n",
    "        #result.append((name, start,end,target, stop_loss))\n",
    "\n",
    "\n",
    "    return pd.DataFrame(result, columns=['Pattern', 'formation_date','breakout_date','Target', 'Stop Loss'])"
   ],
   "metadata": {
    "collapsed": false,
    "pycharm": {
     "name": "#%%\n"
    }
   }
  },
  {
   "cell_type": "code",
   "execution_count": 402,
   "outputs": [
    {
     "name": "stdout",
     "output_type": "stream",
     "text": [
      "                 Pattern formation_date breakout_date      Target   Stop Loss\n",
      "0          Double_Bottom       02-01-20      05-02-20  168.741089  214.421478\n",
      "1   Symmetrical_Triangle       23-07-20      02-09-20  159.590836  192.831543\n",
      "2           Bullish_Flag       18-01-21      03-03-21  237.197052  181.617249\n",
      "3           Bullish_Flag       03-03-21      07-04-21  225.759155  187.705750\n",
      "4           Bullish_Flag       10-05-21      31-05-21  210.345673  185.921997\n",
      "..                   ...            ...           ...         ...         ...\n",
      "79       Bullish_Channel       14-07-22      25-08-22  329.798828  267.530823\n",
      "80       Bullish_Channel       18-08-22      22-09-22  356.281128  290.567535\n",
      "81       Bullish_Channel       29-09-22      03-11-22  361.203522  307.303558\n",
      "82       Bullish_Channel       11-10-22      21-11-22  378.136505  298.197174\n",
      "83       Bullish_Channel       20-02-23      31-03-23  400.500000  358.699982\n",
      "\n",
      "[84 rows x 5 columns]\n"
     ]
    }
   ],
   "source": [
    "c =  calculate_target_stoploss(b)\n",
    "print(c)\n"
   ],
   "metadata": {
    "collapsed": false,
    "pycharm": {
     "name": "#%%\n"
    }
   }
  }
 ],
 "metadata": {
  "kernelspec": {
   "display_name": "Python 3",
   "language": "python",
   "name": "python3"
  },
  "language_info": {
   "codemirror_mode": {
    "name": "ipython",
    "version": 2
   },
   "file_extension": ".py",
   "mimetype": "text/x-python",
   "name": "python",
   "nbconvert_exporter": "python",
   "pygments_lexer": "ipython2",
   "version": "2.7.6"
  }
 },
 "nbformat": 4,
 "nbformat_minor": 0
}